{
 "cells": [
  {
   "cell_type": "markdown",
   "metadata": {},
   "source": [
    "## PROJET UBER PICKUPS"
   ]
  },
  {
   "cell_type": "code",
   "execution_count": 1,
   "metadata": {},
   "outputs": [
    {
     "name": "stdout",
     "output_type": "stream",
     "text": [
      "Collecting plotly\n",
      "  Using cached plotly-5.3.1-py2.py3-none-any.whl (23.9 MB)\n",
      "Requirement already satisfied: six in /opt/conda/lib/python3.8/site-packages (from plotly) (1.15.0)\n",
      "Collecting tenacity>=6.2.0\n",
      "  Using cached tenacity-8.0.1-py3-none-any.whl (24 kB)\n",
      "Installing collected packages: tenacity, plotly\n",
      "Successfully installed plotly-5.3.1 tenacity-8.0.1\n"
     ]
    }
   ],
   "source": [
    "#Install plotly\n",
    "!pip install plotly"
   ]
  },
  {
   "cell_type": "markdown",
   "metadata": {},
   "source": [
    "# Import librairies"
   ]
  },
  {
   "cell_type": "code",
   "execution_count": 2,
   "metadata": {},
   "outputs": [],
   "source": [
    "import pandas as pd\n",
    "import numpy as np\n",
    "import matplotlib.pyplot as plt\n",
    "import plotly.express as px "
   ]
  },
  {
   "cell_type": "code",
   "execution_count": 3,
   "metadata": {},
   "outputs": [
    {
     "data": {
      "text/html": [
       "<div>\n",
       "<style scoped>\n",
       "    .dataframe tbody tr th:only-of-type {\n",
       "        vertical-align: middle;\n",
       "    }\n",
       "\n",
       "    .dataframe tbody tr th {\n",
       "        vertical-align: top;\n",
       "    }\n",
       "\n",
       "    .dataframe thead th {\n",
       "        text-align: right;\n",
       "    }\n",
       "</style>\n",
       "<table border=\"1\" class=\"dataframe\">\n",
       "  <thead>\n",
       "    <tr style=\"text-align: right;\">\n",
       "      <th></th>\n",
       "      <th>Date/Time</th>\n",
       "      <th>Lat</th>\n",
       "      <th>Lon</th>\n",
       "      <th>Base</th>\n",
       "    </tr>\n",
       "  </thead>\n",
       "  <tbody>\n",
       "    <tr>\n",
       "      <th>0</th>\n",
       "      <td>6/1/2014 0:00:00</td>\n",
       "      <td>40.7293</td>\n",
       "      <td>-73.9920</td>\n",
       "      <td>B02512</td>\n",
       "    </tr>\n",
       "    <tr>\n",
       "      <th>1</th>\n",
       "      <td>6/1/2014 0:01:00</td>\n",
       "      <td>40.7131</td>\n",
       "      <td>-74.0097</td>\n",
       "      <td>B02512</td>\n",
       "    </tr>\n",
       "    <tr>\n",
       "      <th>2</th>\n",
       "      <td>6/1/2014 0:04:00</td>\n",
       "      <td>40.3461</td>\n",
       "      <td>-74.6610</td>\n",
       "      <td>B02512</td>\n",
       "    </tr>\n",
       "    <tr>\n",
       "      <th>3</th>\n",
       "      <td>6/1/2014 0:04:00</td>\n",
       "      <td>40.7555</td>\n",
       "      <td>-73.9833</td>\n",
       "      <td>B02512</td>\n",
       "    </tr>\n",
       "    <tr>\n",
       "      <th>4</th>\n",
       "      <td>6/1/2014 0:07:00</td>\n",
       "      <td>40.6880</td>\n",
       "      <td>-74.1831</td>\n",
       "      <td>B02512</td>\n",
       "    </tr>\n",
       "  </tbody>\n",
       "</table>\n",
       "</div>"
      ],
      "text/plain": [
       "          Date/Time      Lat      Lon    Base\n",
       "0  6/1/2014 0:00:00  40.7293 -73.9920  B02512\n",
       "1  6/1/2014 0:01:00  40.7131 -74.0097  B02512\n",
       "2  6/1/2014 0:04:00  40.3461 -74.6610  B02512\n",
       "3  6/1/2014 0:04:00  40.7555 -73.9833  B02512\n",
       "4  6/1/2014 0:07:00  40.6880 -74.1831  B02512"
      ]
     },
     "execution_count": 3,
     "metadata": {},
     "output_type": "execute_result"
    }
   ],
   "source": [
    "#Reading the selected dataset\n",
    "dataset=pd.read_csv('uber-raw-data-jun14.csv')\n",
    "dataset.head()"
   ]
  },
  {
   "cell_type": "code",
   "execution_count": 4,
   "metadata": {},
   "outputs": [
    {
     "data": {
      "text/plain": [
       "(663844, 4)"
      ]
     },
     "execution_count": 4,
     "metadata": {},
     "output_type": "execute_result"
    }
   ],
   "source": [
    "# Shape of the dataset (rows=663834, columns=4)\n",
    "dataset.shape"
   ]
  },
  {
   "cell_type": "code",
   "execution_count": 5,
   "metadata": {},
   "outputs": [
    {
     "data": {
      "text/html": [
       "<div>\n",
       "<style scoped>\n",
       "    .dataframe tbody tr th:only-of-type {\n",
       "        vertical-align: middle;\n",
       "    }\n",
       "\n",
       "    .dataframe tbody tr th {\n",
       "        vertical-align: top;\n",
       "    }\n",
       "\n",
       "    .dataframe thead th {\n",
       "        text-align: right;\n",
       "    }\n",
       "</style>\n",
       "<table border=\"1\" class=\"dataframe\">\n",
       "  <thead>\n",
       "    <tr style=\"text-align: right;\">\n",
       "      <th></th>\n",
       "      <th>Date/Time</th>\n",
       "      <th>Lat</th>\n",
       "      <th>Lon</th>\n",
       "    </tr>\n",
       "  </thead>\n",
       "  <tbody>\n",
       "    <tr>\n",
       "      <th>0</th>\n",
       "      <td>6/1/2014 0:00:00</td>\n",
       "      <td>40.7293</td>\n",
       "      <td>-73.9920</td>\n",
       "    </tr>\n",
       "    <tr>\n",
       "      <th>1</th>\n",
       "      <td>6/1/2014 0:01:00</td>\n",
       "      <td>40.7131</td>\n",
       "      <td>-74.0097</td>\n",
       "    </tr>\n",
       "    <tr>\n",
       "      <th>2</th>\n",
       "      <td>6/1/2014 0:04:00</td>\n",
       "      <td>40.3461</td>\n",
       "      <td>-74.6610</td>\n",
       "    </tr>\n",
       "    <tr>\n",
       "      <th>3</th>\n",
       "      <td>6/1/2014 0:04:00</td>\n",
       "      <td>40.7555</td>\n",
       "      <td>-73.9833</td>\n",
       "    </tr>\n",
       "    <tr>\n",
       "      <th>4</th>\n",
       "      <td>6/1/2014 0:07:00</td>\n",
       "      <td>40.6880</td>\n",
       "      <td>-74.1831</td>\n",
       "    </tr>\n",
       "    <tr>\n",
       "      <th>...</th>\n",
       "      <td>...</td>\n",
       "      <td>...</td>\n",
       "      <td>...</td>\n",
       "    </tr>\n",
       "    <tr>\n",
       "      <th>663839</th>\n",
       "      <td>6/30/2014 22:40:00</td>\n",
       "      <td>40.7332</td>\n",
       "      <td>-73.9872</td>\n",
       "    </tr>\n",
       "    <tr>\n",
       "      <th>663840</th>\n",
       "      <td>6/30/2014 23:12:00</td>\n",
       "      <td>40.7905</td>\n",
       "      <td>-73.9796</td>\n",
       "    </tr>\n",
       "    <tr>\n",
       "      <th>663841</th>\n",
       "      <td>6/30/2014 23:13:00</td>\n",
       "      <td>40.7640</td>\n",
       "      <td>-73.9887</td>\n",
       "    </tr>\n",
       "    <tr>\n",
       "      <th>663842</th>\n",
       "      <td>6/30/2014 23:15:00</td>\n",
       "      <td>40.7262</td>\n",
       "      <td>-73.9944</td>\n",
       "    </tr>\n",
       "    <tr>\n",
       "      <th>663843</th>\n",
       "      <td>6/30/2014 23:35:00</td>\n",
       "      <td>40.7404</td>\n",
       "      <td>-73.9848</td>\n",
       "    </tr>\n",
       "  </tbody>\n",
       "</table>\n",
       "<p>663844 rows × 3 columns</p>\n",
       "</div>"
      ],
      "text/plain": [
       "                 Date/Time      Lat      Lon\n",
       "0         6/1/2014 0:00:00  40.7293 -73.9920\n",
       "1         6/1/2014 0:01:00  40.7131 -74.0097\n",
       "2         6/1/2014 0:04:00  40.3461 -74.6610\n",
       "3         6/1/2014 0:04:00  40.7555 -73.9833\n",
       "4         6/1/2014 0:07:00  40.6880 -74.1831\n",
       "...                    ...      ...      ...\n",
       "663839  6/30/2014 22:40:00  40.7332 -73.9872\n",
       "663840  6/30/2014 23:12:00  40.7905 -73.9796\n",
       "663841  6/30/2014 23:13:00  40.7640 -73.9887\n",
       "663842  6/30/2014 23:15:00  40.7262 -73.9944\n",
       "663843  6/30/2014 23:35:00  40.7404 -73.9848\n",
       "\n",
       "[663844 rows x 3 columns]"
      ]
     },
     "execution_count": 5,
     "metadata": {},
     "output_type": "execute_result"
    }
   ],
   "source": [
    "# Removal the \"Base\"column\n",
    "dataset=dataset.drop('Base', axis=1)\n",
    "dataset"
   ]
  },
  {
   "cell_type": "code",
   "execution_count": 6,
   "metadata": {},
   "outputs": [
    {
     "data": {
      "text/html": [
       "<div>\n",
       "<style scoped>\n",
       "    .dataframe tbody tr th:only-of-type {\n",
       "        vertical-align: middle;\n",
       "    }\n",
       "\n",
       "    .dataframe tbody tr th {\n",
       "        vertical-align: top;\n",
       "    }\n",
       "\n",
       "    .dataframe thead th {\n",
       "        text-align: right;\n",
       "    }\n",
       "</style>\n",
       "<table border=\"1\" class=\"dataframe\">\n",
       "  <thead>\n",
       "    <tr style=\"text-align: right;\">\n",
       "      <th></th>\n",
       "      <th>Date/Time</th>\n",
       "      <th>Lat</th>\n",
       "      <th>Lon</th>\n",
       "    </tr>\n",
       "  </thead>\n",
       "  <tbody>\n",
       "    <tr>\n",
       "      <th>40575</th>\n",
       "      <td>6/2/2014 9:44:00</td>\n",
       "      <td>40.7046</td>\n",
       "      <td>-74.0096</td>\n",
       "    </tr>\n",
       "    <tr>\n",
       "      <th>341437</th>\n",
       "      <td>6/12/2014 22:20:00</td>\n",
       "      <td>40.6815</td>\n",
       "      <td>-73.9324</td>\n",
       "    </tr>\n",
       "    <tr>\n",
       "      <th>626876</th>\n",
       "      <td>6/26/2014 12:10:00</td>\n",
       "      <td>40.7575</td>\n",
       "      <td>-73.9904</td>\n",
       "    </tr>\n",
       "    <tr>\n",
       "      <th>551057</th>\n",
       "      <td>6/13/2014 20:41:00</td>\n",
       "      <td>40.7513</td>\n",
       "      <td>-73.9834</td>\n",
       "    </tr>\n",
       "    <tr>\n",
       "      <th>558972</th>\n",
       "      <td>6/15/2014 6:23:00</td>\n",
       "      <td>40.6944</td>\n",
       "      <td>-73.9690</td>\n",
       "    </tr>\n",
       "    <tr>\n",
       "      <th>...</th>\n",
       "      <td>...</td>\n",
       "      <td>...</td>\n",
       "      <td>...</td>\n",
       "    </tr>\n",
       "    <tr>\n",
       "      <th>374151</th>\n",
       "      <td>6/18/2014 15:58:00</td>\n",
       "      <td>40.7814</td>\n",
       "      <td>-73.9802</td>\n",
       "    </tr>\n",
       "    <tr>\n",
       "      <th>475213</th>\n",
       "      <td>6/3/2014 18:01:00</td>\n",
       "      <td>40.7522</td>\n",
       "      <td>-73.9723</td>\n",
       "    </tr>\n",
       "    <tr>\n",
       "      <th>94385</th>\n",
       "      <td>6/8/2014 13:49:00</td>\n",
       "      <td>40.7716</td>\n",
       "      <td>-73.9821</td>\n",
       "    </tr>\n",
       "    <tr>\n",
       "      <th>207311</th>\n",
       "      <td>6/21/2014 21:08:00</td>\n",
       "      <td>40.7502</td>\n",
       "      <td>-73.9945</td>\n",
       "    </tr>\n",
       "    <tr>\n",
       "      <th>597501</th>\n",
       "      <td>6/21/2014 12:30:00</td>\n",
       "      <td>40.7607</td>\n",
       "      <td>-73.9989</td>\n",
       "    </tr>\n",
       "  </tbody>\n",
       "</table>\n",
       "<p>10000 rows × 3 columns</p>\n",
       "</div>"
      ],
      "text/plain": [
       "                 Date/Time      Lat      Lon\n",
       "40575     6/2/2014 9:44:00  40.7046 -74.0096\n",
       "341437  6/12/2014 22:20:00  40.6815 -73.9324\n",
       "626876  6/26/2014 12:10:00  40.7575 -73.9904\n",
       "551057  6/13/2014 20:41:00  40.7513 -73.9834\n",
       "558972   6/15/2014 6:23:00  40.6944 -73.9690\n",
       "...                    ...      ...      ...\n",
       "374151  6/18/2014 15:58:00  40.7814 -73.9802\n",
       "475213   6/3/2014 18:01:00  40.7522 -73.9723\n",
       "94385    6/8/2014 13:49:00  40.7716 -73.9821\n",
       "207311  6/21/2014 21:08:00  40.7502 -73.9945\n",
       "597501  6/21/2014 12:30:00  40.7607 -73.9989\n",
       "\n",
       "[10000 rows x 3 columns]"
      ]
     },
     "execution_count": 6,
     "metadata": {},
     "output_type": "execute_result"
    }
   ],
   "source": [
    "# Using only 10000 rows in order to protect my PC\n",
    "data=dataset.sample(10000)\n",
    "data"
   ]
  },
  {
   "cell_type": "code",
   "execution_count": 7,
   "metadata": {},
   "outputs": [],
   "source": [
    "# Transform the Data / Time column to datetime in order to separate the temporal data\n",
    "data['Date/Time']=pd.to_datetime(data.iloc[:,0])"
   ]
  },
  {
   "cell_type": "code",
   "execution_count": 8,
   "metadata": {},
   "outputs": [],
   "source": [
    "# Create a \"day\" column by using \"Date/Tile\" column to retrieve number of the day\n",
    "data[\"day\"] = data['Date/Time'].dt.dayofweek"
   ]
  },
  {
   "cell_type": "code",
   "execution_count": 9,
   "metadata": {},
   "outputs": [
    {
     "data": {
      "text/html": [
       "<div>\n",
       "<style scoped>\n",
       "    .dataframe tbody tr th:only-of-type {\n",
       "        vertical-align: middle;\n",
       "    }\n",
       "\n",
       "    .dataframe tbody tr th {\n",
       "        vertical-align: top;\n",
       "    }\n",
       "\n",
       "    .dataframe thead th {\n",
       "        text-align: right;\n",
       "    }\n",
       "</style>\n",
       "<table border=\"1\" class=\"dataframe\">\n",
       "  <thead>\n",
       "    <tr style=\"text-align: right;\">\n",
       "      <th></th>\n",
       "      <th>Date/Time</th>\n",
       "      <th>Lat</th>\n",
       "      <th>Lon</th>\n",
       "      <th>day</th>\n",
       "    </tr>\n",
       "  </thead>\n",
       "  <tbody>\n",
       "    <tr>\n",
       "      <th>40575</th>\n",
       "      <td>2014-06-02 09:44:00</td>\n",
       "      <td>40.7046</td>\n",
       "      <td>-74.0096</td>\n",
       "      <td>0</td>\n",
       "    </tr>\n",
       "    <tr>\n",
       "      <th>341437</th>\n",
       "      <td>2014-06-12 22:20:00</td>\n",
       "      <td>40.6815</td>\n",
       "      <td>-73.9324</td>\n",
       "      <td>3</td>\n",
       "    </tr>\n",
       "    <tr>\n",
       "      <th>626876</th>\n",
       "      <td>2014-06-26 12:10:00</td>\n",
       "      <td>40.7575</td>\n",
       "      <td>-73.9904</td>\n",
       "      <td>3</td>\n",
       "    </tr>\n",
       "    <tr>\n",
       "      <th>551057</th>\n",
       "      <td>2014-06-13 20:41:00</td>\n",
       "      <td>40.7513</td>\n",
       "      <td>-73.9834</td>\n",
       "      <td>4</td>\n",
       "    </tr>\n",
       "    <tr>\n",
       "      <th>558972</th>\n",
       "      <td>2014-06-15 06:23:00</td>\n",
       "      <td>40.6944</td>\n",
       "      <td>-73.9690</td>\n",
       "      <td>6</td>\n",
       "    </tr>\n",
       "    <tr>\n",
       "      <th>...</th>\n",
       "      <td>...</td>\n",
       "      <td>...</td>\n",
       "      <td>...</td>\n",
       "      <td>...</td>\n",
       "    </tr>\n",
       "    <tr>\n",
       "      <th>374151</th>\n",
       "      <td>2014-06-18 15:58:00</td>\n",
       "      <td>40.7814</td>\n",
       "      <td>-73.9802</td>\n",
       "      <td>2</td>\n",
       "    </tr>\n",
       "    <tr>\n",
       "      <th>475213</th>\n",
       "      <td>2014-06-03 18:01:00</td>\n",
       "      <td>40.7522</td>\n",
       "      <td>-73.9723</td>\n",
       "      <td>1</td>\n",
       "    </tr>\n",
       "    <tr>\n",
       "      <th>94385</th>\n",
       "      <td>2014-06-08 13:49:00</td>\n",
       "      <td>40.7716</td>\n",
       "      <td>-73.9821</td>\n",
       "      <td>6</td>\n",
       "    </tr>\n",
       "    <tr>\n",
       "      <th>207311</th>\n",
       "      <td>2014-06-21 21:08:00</td>\n",
       "      <td>40.7502</td>\n",
       "      <td>-73.9945</td>\n",
       "      <td>5</td>\n",
       "    </tr>\n",
       "    <tr>\n",
       "      <th>597501</th>\n",
       "      <td>2014-06-21 12:30:00</td>\n",
       "      <td>40.7607</td>\n",
       "      <td>-73.9989</td>\n",
       "      <td>5</td>\n",
       "    </tr>\n",
       "  </tbody>\n",
       "</table>\n",
       "<p>10000 rows × 4 columns</p>\n",
       "</div>"
      ],
      "text/plain": [
       "                 Date/Time      Lat      Lon  day\n",
       "40575  2014-06-02 09:44:00  40.7046 -74.0096    0\n",
       "341437 2014-06-12 22:20:00  40.6815 -73.9324    3\n",
       "626876 2014-06-26 12:10:00  40.7575 -73.9904    3\n",
       "551057 2014-06-13 20:41:00  40.7513 -73.9834    4\n",
       "558972 2014-06-15 06:23:00  40.6944 -73.9690    6\n",
       "...                    ...      ...      ...  ...\n",
       "374151 2014-06-18 15:58:00  40.7814 -73.9802    2\n",
       "475213 2014-06-03 18:01:00  40.7522 -73.9723    1\n",
       "94385  2014-06-08 13:49:00  40.7716 -73.9821    6\n",
       "207311 2014-06-21 21:08:00  40.7502 -73.9945    5\n",
       "597501 2014-06-21 12:30:00  40.7607 -73.9989    5\n",
       "\n",
       "[10000 rows x 4 columns]"
      ]
     },
     "execution_count": 9,
     "metadata": {},
     "output_type": "execute_result"
    }
   ],
   "source": [
    "data"
   ]
  },
  {
   "cell_type": "code",
   "execution_count": 10,
   "metadata": {},
   "outputs": [
    {
     "name": "stdout",
     "output_type": "stream",
     "text": [
      "<class 'pandas.core.frame.DataFrame'>\n",
      "Int64Index: 10000 entries, 40575 to 597501\n",
      "Data columns (total 4 columns):\n",
      " #   Column     Non-Null Count  Dtype         \n",
      "---  ------     --------------  -----         \n",
      " 0   Date/Time  10000 non-null  datetime64[ns]\n",
      " 1   Lat        10000 non-null  float64       \n",
      " 2   Lon        10000 non-null  float64       \n",
      " 3   day        10000 non-null  int64         \n",
      "dtypes: datetime64[ns](1), float64(2), int64(1)\n",
      "memory usage: 390.6 KB\n"
     ]
    }
   ],
   "source": [
    "#Information about dataframe\n",
    "data.info()"
   ]
  },
  {
   "cell_type": "code",
   "execution_count": 11,
   "metadata": {},
   "outputs": [],
   "source": [
    "#Removal the \"Date/Time\" column\n",
    "data=data.drop(['Date/Time'],axis=1)"
   ]
  },
  {
   "cell_type": "code",
   "execution_count": 12,
   "metadata": {},
   "outputs": [
    {
     "data": {
      "text/html": [
       "<div>\n",
       "<style scoped>\n",
       "    .dataframe tbody tr th:only-of-type {\n",
       "        vertical-align: middle;\n",
       "    }\n",
       "\n",
       "    .dataframe tbody tr th {\n",
       "        vertical-align: top;\n",
       "    }\n",
       "\n",
       "    .dataframe thead th {\n",
       "        text-align: right;\n",
       "    }\n",
       "</style>\n",
       "<table border=\"1\" class=\"dataframe\">\n",
       "  <thead>\n",
       "    <tr style=\"text-align: right;\">\n",
       "      <th></th>\n",
       "      <th>Lat</th>\n",
       "      <th>Lon</th>\n",
       "      <th>day</th>\n",
       "    </tr>\n",
       "  </thead>\n",
       "  <tbody>\n",
       "    <tr>\n",
       "      <th>40575</th>\n",
       "      <td>40.7046</td>\n",
       "      <td>-74.0096</td>\n",
       "      <td>0</td>\n",
       "    </tr>\n",
       "    <tr>\n",
       "      <th>341437</th>\n",
       "      <td>40.6815</td>\n",
       "      <td>-73.9324</td>\n",
       "      <td>3</td>\n",
       "    </tr>\n",
       "    <tr>\n",
       "      <th>626876</th>\n",
       "      <td>40.7575</td>\n",
       "      <td>-73.9904</td>\n",
       "      <td>3</td>\n",
       "    </tr>\n",
       "    <tr>\n",
       "      <th>551057</th>\n",
       "      <td>40.7513</td>\n",
       "      <td>-73.9834</td>\n",
       "      <td>4</td>\n",
       "    </tr>\n",
       "    <tr>\n",
       "      <th>558972</th>\n",
       "      <td>40.6944</td>\n",
       "      <td>-73.9690</td>\n",
       "      <td>6</td>\n",
       "    </tr>\n",
       "    <tr>\n",
       "      <th>...</th>\n",
       "      <td>...</td>\n",
       "      <td>...</td>\n",
       "      <td>...</td>\n",
       "    </tr>\n",
       "    <tr>\n",
       "      <th>374151</th>\n",
       "      <td>40.7814</td>\n",
       "      <td>-73.9802</td>\n",
       "      <td>2</td>\n",
       "    </tr>\n",
       "    <tr>\n",
       "      <th>475213</th>\n",
       "      <td>40.7522</td>\n",
       "      <td>-73.9723</td>\n",
       "      <td>1</td>\n",
       "    </tr>\n",
       "    <tr>\n",
       "      <th>94385</th>\n",
       "      <td>40.7716</td>\n",
       "      <td>-73.9821</td>\n",
       "      <td>6</td>\n",
       "    </tr>\n",
       "    <tr>\n",
       "      <th>207311</th>\n",
       "      <td>40.7502</td>\n",
       "      <td>-73.9945</td>\n",
       "      <td>5</td>\n",
       "    </tr>\n",
       "    <tr>\n",
       "      <th>597501</th>\n",
       "      <td>40.7607</td>\n",
       "      <td>-73.9989</td>\n",
       "      <td>5</td>\n",
       "    </tr>\n",
       "  </tbody>\n",
       "</table>\n",
       "<p>10000 rows × 3 columns</p>\n",
       "</div>"
      ],
      "text/plain": [
       "            Lat      Lon  day\n",
       "40575   40.7046 -74.0096    0\n",
       "341437  40.6815 -73.9324    3\n",
       "626876  40.7575 -73.9904    3\n",
       "551057  40.7513 -73.9834    4\n",
       "558972  40.6944 -73.9690    6\n",
       "...         ...      ...  ...\n",
       "374151  40.7814 -73.9802    2\n",
       "475213  40.7522 -73.9723    1\n",
       "94385   40.7716 -73.9821    6\n",
       "207311  40.7502 -73.9945    5\n",
       "597501  40.7607 -73.9989    5\n",
       "\n",
       "[10000 rows x 3 columns]"
      ]
     },
     "execution_count": 12,
     "metadata": {},
     "output_type": "execute_result"
    }
   ],
   "source": [
    "data"
   ]
  },
  {
   "cell_type": "code",
   "execution_count": 13,
   "metadata": {},
   "outputs": [
    {
     "data": {
      "text/plain": [
       "MiniBatchKMeans(n_clusters=4)"
      ]
     },
     "execution_count": 13,
     "metadata": {},
     "output_type": "execute_result"
    }
   ],
   "source": [
    "from sklearn.cluster import MiniBatchKMeans\n",
    "kmeans = MiniBatchKMeans(4)\n",
    "kmeans.fit(data)"
   ]
  },
  {
   "cell_type": "code",
   "execution_count": 14,
   "metadata": {},
   "outputs": [
    {
     "data": {
      "text/html": [
       "<div>\n",
       "<style scoped>\n",
       "    .dataframe tbody tr th:only-of-type {\n",
       "        vertical-align: middle;\n",
       "    }\n",
       "\n",
       "    .dataframe tbody tr th {\n",
       "        vertical-align: top;\n",
       "    }\n",
       "\n",
       "    .dataframe thead th {\n",
       "        text-align: right;\n",
       "    }\n",
       "</style>\n",
       "<table border=\"1\" class=\"dataframe\">\n",
       "  <thead>\n",
       "    <tr style=\"text-align: right;\">\n",
       "      <th></th>\n",
       "      <th>Lat</th>\n",
       "      <th>Lon</th>\n",
       "      <th>day</th>\n",
       "      <th>cluster</th>\n",
       "    </tr>\n",
       "  </thead>\n",
       "  <tbody>\n",
       "    <tr>\n",
       "      <th>40575</th>\n",
       "      <td>40.7046</td>\n",
       "      <td>-74.0096</td>\n",
       "      <td>0</td>\n",
       "      <td>3</td>\n",
       "    </tr>\n",
       "    <tr>\n",
       "      <th>341437</th>\n",
       "      <td>40.6815</td>\n",
       "      <td>-73.9324</td>\n",
       "      <td>3</td>\n",
       "      <td>2</td>\n",
       "    </tr>\n",
       "    <tr>\n",
       "      <th>626876</th>\n",
       "      <td>40.7575</td>\n",
       "      <td>-73.9904</td>\n",
       "      <td>3</td>\n",
       "      <td>2</td>\n",
       "    </tr>\n",
       "    <tr>\n",
       "      <th>551057</th>\n",
       "      <td>40.7513</td>\n",
       "      <td>-73.9834</td>\n",
       "      <td>4</td>\n",
       "      <td>2</td>\n",
       "    </tr>\n",
       "    <tr>\n",
       "      <th>558972</th>\n",
       "      <td>40.6944</td>\n",
       "      <td>-73.9690</td>\n",
       "      <td>6</td>\n",
       "      <td>0</td>\n",
       "    </tr>\n",
       "  </tbody>\n",
       "</table>\n",
       "</div>"
      ],
      "text/plain": [
       "            Lat      Lon  day  cluster\n",
       "40575   40.7046 -74.0096    0        3\n",
       "341437  40.6815 -73.9324    3        2\n",
       "626876  40.7575 -73.9904    3        2\n",
       "551057  40.7513 -73.9834    4        2\n",
       "558972  40.6944 -73.9690    6        0"
      ]
     },
     "execution_count": 14,
     "metadata": {},
     "output_type": "execute_result"
    }
   ],
   "source": [
    "#Predictions\n",
    "data.loc[:,'cluster'] = kmeans.predict(data)\n",
    "data.head()"
   ]
  },
  {
   "cell_type": "code",
   "execution_count": 15,
   "metadata": {},
   "outputs": [
    {
     "data": {
      "text/plain": [
       "(10000, 4)"
      ]
     },
     "execution_count": 15,
     "metadata": {},
     "output_type": "execute_result"
    }
   ],
   "source": [
    "#Shape of the dataset \"data\" (rows=10000, columns=4)\n",
    "data.shape"
   ]
  },
  {
   "cell_type": "markdown",
   "metadata": {},
   "source": [
    "# Data Visualization"
   ]
  },
  {
   "cell_type": "code",
   "execution_count": 16,
   "metadata": {},
   "outputs": [
    {
     "data": {
      "text/html": [
       "<iframe\n",
       "    scrolling=\"no\"\n",
       "    width=\"100%\"\n",
       "    height=\"545px\"\n",
       "    src=\"iframe_figures/figure_16.html\"\n",
       "    frameborder=\"0\"\n",
       "    allowfullscreen\n",
       "></iframe>\n"
      ]
     },
     "metadata": {},
     "output_type": "display_data"
    }
   ],
   "source": [
    "fig = px.scatter_mapbox(data, lat=\"Lat\", lon=\"Lon\", color=\"cluster\", zoom=10, mapbox_style=\"carto-positron\")\n",
    "fig.show('iframe')"
   ]
  },
  {
   "cell_type": "code",
   "execution_count": 17,
   "metadata": {},
   "outputs": [
    {
     "data": {
      "text/html": [
       "<div>\n",
       "<style scoped>\n",
       "    .dataframe tbody tr th:only-of-type {\n",
       "        vertical-align: middle;\n",
       "    }\n",
       "\n",
       "    .dataframe tbody tr th {\n",
       "        vertical-align: top;\n",
       "    }\n",
       "\n",
       "    .dataframe thead th {\n",
       "        text-align: right;\n",
       "    }\n",
       "</style>\n",
       "<table border=\"1\" class=\"dataframe\">\n",
       "  <thead>\n",
       "    <tr style=\"text-align: right;\">\n",
       "      <th></th>\n",
       "      <th>Lat</th>\n",
       "      <th>Lon</th>\n",
       "      <th>day</th>\n",
       "      <th>cluster</th>\n",
       "    </tr>\n",
       "  </thead>\n",
       "  <tbody>\n",
       "    <tr>\n",
       "      <th>40575</th>\n",
       "      <td>40.7046</td>\n",
       "      <td>-74.0096</td>\n",
       "      <td>0</td>\n",
       "      <td>3</td>\n",
       "    </tr>\n",
       "    <tr>\n",
       "      <th>341437</th>\n",
       "      <td>40.6815</td>\n",
       "      <td>-73.9324</td>\n",
       "      <td>3</td>\n",
       "      <td>2</td>\n",
       "    </tr>\n",
       "    <tr>\n",
       "      <th>626876</th>\n",
       "      <td>40.7575</td>\n",
       "      <td>-73.9904</td>\n",
       "      <td>3</td>\n",
       "      <td>2</td>\n",
       "    </tr>\n",
       "    <tr>\n",
       "      <th>551057</th>\n",
       "      <td>40.7513</td>\n",
       "      <td>-73.9834</td>\n",
       "      <td>4</td>\n",
       "      <td>2</td>\n",
       "    </tr>\n",
       "    <tr>\n",
       "      <th>558972</th>\n",
       "      <td>40.6944</td>\n",
       "      <td>-73.9690</td>\n",
       "      <td>6</td>\n",
       "      <td>0</td>\n",
       "    </tr>\n",
       "    <tr>\n",
       "      <th>...</th>\n",
       "      <td>...</td>\n",
       "      <td>...</td>\n",
       "      <td>...</td>\n",
       "      <td>...</td>\n",
       "    </tr>\n",
       "    <tr>\n",
       "      <th>374151</th>\n",
       "      <td>40.7814</td>\n",
       "      <td>-73.9802</td>\n",
       "      <td>2</td>\n",
       "      <td>1</td>\n",
       "    </tr>\n",
       "    <tr>\n",
       "      <th>475213</th>\n",
       "      <td>40.7522</td>\n",
       "      <td>-73.9723</td>\n",
       "      <td>1</td>\n",
       "      <td>1</td>\n",
       "    </tr>\n",
       "    <tr>\n",
       "      <th>94385</th>\n",
       "      <td>40.7716</td>\n",
       "      <td>-73.9821</td>\n",
       "      <td>6</td>\n",
       "      <td>0</td>\n",
       "    </tr>\n",
       "    <tr>\n",
       "      <th>207311</th>\n",
       "      <td>40.7502</td>\n",
       "      <td>-73.9945</td>\n",
       "      <td>5</td>\n",
       "      <td>0</td>\n",
       "    </tr>\n",
       "    <tr>\n",
       "      <th>597501</th>\n",
       "      <td>40.7607</td>\n",
       "      <td>-73.9989</td>\n",
       "      <td>5</td>\n",
       "      <td>0</td>\n",
       "    </tr>\n",
       "  </tbody>\n",
       "</table>\n",
       "<p>10000 rows × 4 columns</p>\n",
       "</div>"
      ],
      "text/plain": [
       "            Lat      Lon  day  cluster\n",
       "40575   40.7046 -74.0096    0        3\n",
       "341437  40.6815 -73.9324    3        2\n",
       "626876  40.7575 -73.9904    3        2\n",
       "551057  40.7513 -73.9834    4        2\n",
       "558972  40.6944 -73.9690    6        0\n",
       "...         ...      ...  ...      ...\n",
       "374151  40.7814 -73.9802    2        1\n",
       "475213  40.7522 -73.9723    1        1\n",
       "94385   40.7716 -73.9821    6        0\n",
       "207311  40.7502 -73.9945    5        0\n",
       "597501  40.7607 -73.9989    5        0\n",
       "\n",
       "[10000 rows x 4 columns]"
      ]
     },
     "execution_count": 17,
     "metadata": {},
     "output_type": "execute_result"
    }
   ],
   "source": [
    "# Display the dataframe and the predicted results into \"cluster\" column \n",
    "data"
   ]
  },
  {
   "cell_type": "code",
   "execution_count": 18,
   "metadata": {},
   "outputs": [
    {
     "data": {
      "text/html": [
       "<div>\n",
       "<style scoped>\n",
       "    .dataframe tbody tr th:only-of-type {\n",
       "        vertical-align: middle;\n",
       "    }\n",
       "\n",
       "    .dataframe tbody tr th {\n",
       "        vertical-align: top;\n",
       "    }\n",
       "\n",
       "    .dataframe thead th {\n",
       "        text-align: right;\n",
       "    }\n",
       "</style>\n",
       "<table border=\"1\" class=\"dataframe\">\n",
       "  <thead>\n",
       "    <tr style=\"text-align: right;\">\n",
       "      <th></th>\n",
       "      <th>Date/Time</th>\n",
       "      <th>Lat</th>\n",
       "      <th>Lon</th>\n",
       "    </tr>\n",
       "  </thead>\n",
       "  <tbody>\n",
       "    <tr>\n",
       "      <th>278079</th>\n",
       "      <td>6/1/2014 17:40:00</td>\n",
       "      <td>40.6415</td>\n",
       "      <td>-73.7884</td>\n",
       "    </tr>\n",
       "    <tr>\n",
       "      <th>556340</th>\n",
       "      <td>6/14/2014 18:52:00</td>\n",
       "      <td>40.7856</td>\n",
       "      <td>-73.9550</td>\n",
       "    </tr>\n",
       "    <tr>\n",
       "      <th>334235</th>\n",
       "      <td>6/12/2014 0:24:00</td>\n",
       "      <td>40.7579</td>\n",
       "      <td>-73.9698</td>\n",
       "    </tr>\n",
       "    <tr>\n",
       "      <th>293143</th>\n",
       "      <td>6/4/2014 20:54:00</td>\n",
       "      <td>40.7234</td>\n",
       "      <td>-74.0081</td>\n",
       "    </tr>\n",
       "    <tr>\n",
       "      <th>241832</th>\n",
       "      <td>6/26/2014 15:45:00</td>\n",
       "      <td>40.7400</td>\n",
       "      <td>-74.0072</td>\n",
       "    </tr>\n",
       "    <tr>\n",
       "      <th>...</th>\n",
       "      <td>...</td>\n",
       "      <td>...</td>\n",
       "      <td>...</td>\n",
       "    </tr>\n",
       "    <tr>\n",
       "      <th>599769</th>\n",
       "      <td>6/21/2014 19:39:00</td>\n",
       "      <td>40.6929</td>\n",
       "      <td>-73.9620</td>\n",
       "    </tr>\n",
       "    <tr>\n",
       "      <th>169709</th>\n",
       "      <td>6/17/2014 15:41:00</td>\n",
       "      <td>40.7499</td>\n",
       "      <td>-74.0035</td>\n",
       "    </tr>\n",
       "    <tr>\n",
       "      <th>289633</th>\n",
       "      <td>6/4/2014 9:37:00</td>\n",
       "      <td>40.7705</td>\n",
       "      <td>-73.9816</td>\n",
       "    </tr>\n",
       "    <tr>\n",
       "      <th>498365</th>\n",
       "      <td>6/6/2014 18:19:00</td>\n",
       "      <td>40.7803</td>\n",
       "      <td>-73.9873</td>\n",
       "    </tr>\n",
       "    <tr>\n",
       "      <th>643467</th>\n",
       "      <td>6/28/2014 19:37:00</td>\n",
       "      <td>40.7751</td>\n",
       "      <td>-73.9908</td>\n",
       "    </tr>\n",
       "  </tbody>\n",
       "</table>\n",
       "<p>10000 rows × 3 columns</p>\n",
       "</div>"
      ],
      "text/plain": [
       "                 Date/Time      Lat      Lon\n",
       "278079   6/1/2014 17:40:00  40.6415 -73.7884\n",
       "556340  6/14/2014 18:52:00  40.7856 -73.9550\n",
       "334235   6/12/2014 0:24:00  40.7579 -73.9698\n",
       "293143   6/4/2014 20:54:00  40.7234 -74.0081\n",
       "241832  6/26/2014 15:45:00  40.7400 -74.0072\n",
       "...                    ...      ...      ...\n",
       "599769  6/21/2014 19:39:00  40.6929 -73.9620\n",
       "169709  6/17/2014 15:41:00  40.7499 -74.0035\n",
       "289633    6/4/2014 9:37:00  40.7705 -73.9816\n",
       "498365   6/6/2014 18:19:00  40.7803 -73.9873\n",
       "643467  6/28/2014 19:37:00  40.7751 -73.9908\n",
       "\n",
       "[10000 rows x 3 columns]"
      ]
     },
     "execution_count": 18,
     "metadata": {},
     "output_type": "execute_result"
    }
   ],
   "source": [
    "data1=dataset.sample(10000)\n",
    "data1"
   ]
  },
  {
   "cell_type": "code",
   "execution_count": 19,
   "metadata": {},
   "outputs": [
    {
     "data": {
      "text/html": [
       "<div>\n",
       "<style scoped>\n",
       "    .dataframe tbody tr th:only-of-type {\n",
       "        vertical-align: middle;\n",
       "    }\n",
       "\n",
       "    .dataframe tbody tr th {\n",
       "        vertical-align: top;\n",
       "    }\n",
       "\n",
       "    .dataframe thead th {\n",
       "        text-align: right;\n",
       "    }\n",
       "</style>\n",
       "<table border=\"1\" class=\"dataframe\">\n",
       "  <thead>\n",
       "    <tr style=\"text-align: right;\">\n",
       "      <th></th>\n",
       "      <th>Date/Time</th>\n",
       "      <th>Lat</th>\n",
       "      <th>Lon</th>\n",
       "      <th>day</th>\n",
       "    </tr>\n",
       "  </thead>\n",
       "  <tbody>\n",
       "    <tr>\n",
       "      <th>278079</th>\n",
       "      <td>2014-06-01 17:40:00</td>\n",
       "      <td>40.6415</td>\n",
       "      <td>-73.7884</td>\n",
       "      <td>6</td>\n",
       "    </tr>\n",
       "    <tr>\n",
       "      <th>556340</th>\n",
       "      <td>2014-06-14 18:52:00</td>\n",
       "      <td>40.7856</td>\n",
       "      <td>-73.9550</td>\n",
       "      <td>5</td>\n",
       "    </tr>\n",
       "    <tr>\n",
       "      <th>334235</th>\n",
       "      <td>2014-06-12 00:24:00</td>\n",
       "      <td>40.7579</td>\n",
       "      <td>-73.9698</td>\n",
       "      <td>3</td>\n",
       "    </tr>\n",
       "    <tr>\n",
       "      <th>293143</th>\n",
       "      <td>2014-06-04 20:54:00</td>\n",
       "      <td>40.7234</td>\n",
       "      <td>-74.0081</td>\n",
       "      <td>2</td>\n",
       "    </tr>\n",
       "    <tr>\n",
       "      <th>241832</th>\n",
       "      <td>2014-06-26 15:45:00</td>\n",
       "      <td>40.7400</td>\n",
       "      <td>-74.0072</td>\n",
       "      <td>3</td>\n",
       "    </tr>\n",
       "    <tr>\n",
       "      <th>...</th>\n",
       "      <td>...</td>\n",
       "      <td>...</td>\n",
       "      <td>...</td>\n",
       "      <td>...</td>\n",
       "    </tr>\n",
       "    <tr>\n",
       "      <th>599769</th>\n",
       "      <td>2014-06-21 19:39:00</td>\n",
       "      <td>40.6929</td>\n",
       "      <td>-73.9620</td>\n",
       "      <td>5</td>\n",
       "    </tr>\n",
       "    <tr>\n",
       "      <th>169709</th>\n",
       "      <td>2014-06-17 15:41:00</td>\n",
       "      <td>40.7499</td>\n",
       "      <td>-74.0035</td>\n",
       "      <td>1</td>\n",
       "    </tr>\n",
       "    <tr>\n",
       "      <th>289633</th>\n",
       "      <td>2014-06-04 09:37:00</td>\n",
       "      <td>40.7705</td>\n",
       "      <td>-73.9816</td>\n",
       "      <td>2</td>\n",
       "    </tr>\n",
       "    <tr>\n",
       "      <th>498365</th>\n",
       "      <td>2014-06-06 18:19:00</td>\n",
       "      <td>40.7803</td>\n",
       "      <td>-73.9873</td>\n",
       "      <td>4</td>\n",
       "    </tr>\n",
       "    <tr>\n",
       "      <th>643467</th>\n",
       "      <td>2014-06-28 19:37:00</td>\n",
       "      <td>40.7751</td>\n",
       "      <td>-73.9908</td>\n",
       "      <td>5</td>\n",
       "    </tr>\n",
       "  </tbody>\n",
       "</table>\n",
       "<p>10000 rows × 4 columns</p>\n",
       "</div>"
      ],
      "text/plain": [
       "                 Date/Time      Lat      Lon  day\n",
       "278079 2014-06-01 17:40:00  40.6415 -73.7884    6\n",
       "556340 2014-06-14 18:52:00  40.7856 -73.9550    5\n",
       "334235 2014-06-12 00:24:00  40.7579 -73.9698    3\n",
       "293143 2014-06-04 20:54:00  40.7234 -74.0081    2\n",
       "241832 2014-06-26 15:45:00  40.7400 -74.0072    3\n",
       "...                    ...      ...      ...  ...\n",
       "599769 2014-06-21 19:39:00  40.6929 -73.9620    5\n",
       "169709 2014-06-17 15:41:00  40.7499 -74.0035    1\n",
       "289633 2014-06-04 09:37:00  40.7705 -73.9816    2\n",
       "498365 2014-06-06 18:19:00  40.7803 -73.9873    4\n",
       "643467 2014-06-28 19:37:00  40.7751 -73.9908    5\n",
       "\n",
       "[10000 rows x 4 columns]"
      ]
     },
     "execution_count": 19,
     "metadata": {},
     "output_type": "execute_result"
    }
   ],
   "source": [
    "# Creation of the \"day\" column to determine the day number\n",
    "data1['Date/Time']=pd.to_datetime(data1.iloc[:,0])\n",
    "data1[\"day\"] = data1['Date/Time'].dt.dayofweek\n",
    "data1"
   ]
  },
  {
   "cell_type": "code",
   "execution_count": 20,
   "metadata": {},
   "outputs": [
    {
     "data": {
      "text/plain": [
       "array([6, 5, 3, 2, 0, 4, 1])"
      ]
     },
     "execution_count": 20,
     "metadata": {},
     "output_type": "execute_result"
    }
   ],
   "source": [
    "# Determine the unique values of the \"day\" column\n",
    "data1[\"day\"].unique()"
   ]
  },
  {
   "cell_type": "code",
   "execution_count": 21,
   "metadata": {},
   "outputs": [
    {
     "data": {
      "text/html": [
       "<iframe\n",
       "    scrolling=\"no\"\n",
       "    width=\"100%\"\n",
       "    height=\"545px\"\n",
       "    src=\"iframe_figures/figure_21.html\"\n",
       "    frameborder=\"0\"\n",
       "    allowfullscreen\n",
       "></iframe>\n"
      ]
     },
     "metadata": {},
     "output_type": "display_data"
    },
    {
     "data": {
      "text/html": [
       "<iframe\n",
       "    scrolling=\"no\"\n",
       "    width=\"100%\"\n",
       "    height=\"545px\"\n",
       "    src=\"iframe_figures/figure_21.html\"\n",
       "    frameborder=\"0\"\n",
       "    allowfullscreen\n",
       "></iframe>\n"
      ]
     },
     "metadata": {},
     "output_type": "display_data"
    },
    {
     "data": {
      "text/html": [
       "<iframe\n",
       "    scrolling=\"no\"\n",
       "    width=\"100%\"\n",
       "    height=\"545px\"\n",
       "    src=\"iframe_figures/figure_21.html\"\n",
       "    frameborder=\"0\"\n",
       "    allowfullscreen\n",
       "></iframe>\n"
      ]
     },
     "metadata": {},
     "output_type": "display_data"
    },
    {
     "data": {
      "text/html": [
       "<iframe\n",
       "    scrolling=\"no\"\n",
       "    width=\"100%\"\n",
       "    height=\"545px\"\n",
       "    src=\"iframe_figures/figure_21.html\"\n",
       "    frameborder=\"0\"\n",
       "    allowfullscreen\n",
       "></iframe>\n"
      ]
     },
     "metadata": {},
     "output_type": "display_data"
    },
    {
     "data": {
      "text/html": [
       "<iframe\n",
       "    scrolling=\"no\"\n",
       "    width=\"100%\"\n",
       "    height=\"545px\"\n",
       "    src=\"iframe_figures/figure_21.html\"\n",
       "    frameborder=\"0\"\n",
       "    allowfullscreen\n",
       "></iframe>\n"
      ]
     },
     "metadata": {},
     "output_type": "display_data"
    },
    {
     "data": {
      "text/html": [
       "<iframe\n",
       "    scrolling=\"no\"\n",
       "    width=\"100%\"\n",
       "    height=\"545px\"\n",
       "    src=\"iframe_figures/figure_21.html\"\n",
       "    frameborder=\"0\"\n",
       "    allowfullscreen\n",
       "></iframe>\n"
      ]
     },
     "metadata": {},
     "output_type": "display_data"
    },
    {
     "data": {
      "text/html": [
       "<iframe\n",
       "    scrolling=\"no\"\n",
       "    width=\"100%\"\n",
       "    height=\"545px\"\n",
       "    src=\"iframe_figures/figure_21.html\"\n",
       "    frameborder=\"0\"\n",
       "    allowfullscreen\n",
       "></iframe>\n"
      ]
     },
     "metadata": {},
     "output_type": "display_data"
    }
   ],
   "source": [
    "#Iteration on data1[\"day\"] to determine the clusters through the prediction\n",
    "for data in data1[\"day\"].unique():\n",
    "\n",
    "    dat = data1.loc[data1[\"day\"]==data,[\"Lat\",\"Lon\"]]\n",
    "    kmeans = MiniBatchKMeans(4)\n",
    "    kmeans.fit(dat)\n",
    "    \n",
    "    dat = dat.sample(1000)\n",
    "    \n",
    "    dat.loc[:,'cluster'] = kmeans.predict(dat)\n",
    "    dat.head()\n",
    "    \n",
    "    fig = px.scatter_mapbox(dat, lat=\"Lat\", lon=\"Lon\", color=\"cluster\", zoom=10, mapbox_style=\"carto-positron\")\n",
    "    fig.show('iframe')"
   ]
  },
  {
   "cell_type": "code",
   "execution_count": 22,
   "metadata": {},
   "outputs": [],
   "source": [
    "# Using DBSCAN to compare with Kmeans\n",
    "from sklearn.cluster import DBSCAN"
   ]
  },
  {
   "cell_type": "code",
   "execution_count": 23,
   "metadata": {},
   "outputs": [
    {
     "data": {
      "text/html": [
       "<iframe\n",
       "    scrolling=\"no\"\n",
       "    width=\"100%\"\n",
       "    height=\"545px\"\n",
       "    src=\"iframe_figures/figure_23.html\"\n",
       "    frameborder=\"0\"\n",
       "    allowfullscreen\n",
       "></iframe>\n"
      ]
     },
     "metadata": {},
     "output_type": "display_data"
    },
    {
     "data": {
      "text/html": [
       "<iframe\n",
       "    scrolling=\"no\"\n",
       "    width=\"100%\"\n",
       "    height=\"545px\"\n",
       "    src=\"iframe_figures/figure_23.html\"\n",
       "    frameborder=\"0\"\n",
       "    allowfullscreen\n",
       "></iframe>\n"
      ]
     },
     "metadata": {},
     "output_type": "display_data"
    },
    {
     "data": {
      "text/html": [
       "<iframe\n",
       "    scrolling=\"no\"\n",
       "    width=\"100%\"\n",
       "    height=\"545px\"\n",
       "    src=\"iframe_figures/figure_23.html\"\n",
       "    frameborder=\"0\"\n",
       "    allowfullscreen\n",
       "></iframe>\n"
      ]
     },
     "metadata": {},
     "output_type": "display_data"
    },
    {
     "data": {
      "text/html": [
       "<iframe\n",
       "    scrolling=\"no\"\n",
       "    width=\"100%\"\n",
       "    height=\"545px\"\n",
       "    src=\"iframe_figures/figure_23.html\"\n",
       "    frameborder=\"0\"\n",
       "    allowfullscreen\n",
       "></iframe>\n"
      ]
     },
     "metadata": {},
     "output_type": "display_data"
    },
    {
     "data": {
      "text/html": [
       "<iframe\n",
       "    scrolling=\"no\"\n",
       "    width=\"100%\"\n",
       "    height=\"545px\"\n",
       "    src=\"iframe_figures/figure_23.html\"\n",
       "    frameborder=\"0\"\n",
       "    allowfullscreen\n",
       "></iframe>\n"
      ]
     },
     "metadata": {},
     "output_type": "display_data"
    },
    {
     "data": {
      "text/html": [
       "<iframe\n",
       "    scrolling=\"no\"\n",
       "    width=\"100%\"\n",
       "    height=\"545px\"\n",
       "    src=\"iframe_figures/figure_23.html\"\n",
       "    frameborder=\"0\"\n",
       "    allowfullscreen\n",
       "></iframe>\n"
      ]
     },
     "metadata": {},
     "output_type": "display_data"
    },
    {
     "data": {
      "text/html": [
       "<iframe\n",
       "    scrolling=\"no\"\n",
       "    width=\"100%\"\n",
       "    height=\"545px\"\n",
       "    src=\"iframe_figures/figure_23.html\"\n",
       "    frameborder=\"0\"\n",
       "    allowfullscreen\n",
       "></iframe>\n"
      ]
     },
     "metadata": {},
     "output_type": "display_data"
    }
   ],
   "source": [
    "#with eps=0.05\n",
    "for data in np.unique(data1[\"day\"]):\n",
    "\n",
    "    dat = data1.loc[data1[\"day\"]==data,[\"Lat\",\"Lon\"]]\n",
    "    dat = dat.sample(1000)\n",
    "    dbscan = DBSCAN(eps=0.05, metric = \"manhattan\")\n",
    "    dat.loc[:,'cluster'] = dbscan.fit_predict(dat)\n",
    "\n",
    "    fig = px.scatter_mapbox(dat, lat=\"Lat\", lon=\"Lon\", color=\"cluster\", zoom=10, mapbox_style=\"carto-positron\")\n",
    "    fig.show('iframe')"
   ]
  },
  {
   "cell_type": "code",
   "execution_count": 24,
   "metadata": {},
   "outputs": [
    {
     "data": {
      "text/html": [
       "<iframe\n",
       "    scrolling=\"no\"\n",
       "    width=\"100%\"\n",
       "    height=\"545px\"\n",
       "    src=\"iframe_figures/figure_24.html\"\n",
       "    frameborder=\"0\"\n",
       "    allowfullscreen\n",
       "></iframe>\n"
      ]
     },
     "metadata": {},
     "output_type": "display_data"
    },
    {
     "data": {
      "text/html": [
       "<iframe\n",
       "    scrolling=\"no\"\n",
       "    width=\"100%\"\n",
       "    height=\"545px\"\n",
       "    src=\"iframe_figures/figure_24.html\"\n",
       "    frameborder=\"0\"\n",
       "    allowfullscreen\n",
       "></iframe>\n"
      ]
     },
     "metadata": {},
     "output_type": "display_data"
    },
    {
     "data": {
      "text/html": [
       "<iframe\n",
       "    scrolling=\"no\"\n",
       "    width=\"100%\"\n",
       "    height=\"545px\"\n",
       "    src=\"iframe_figures/figure_24.html\"\n",
       "    frameborder=\"0\"\n",
       "    allowfullscreen\n",
       "></iframe>\n"
      ]
     },
     "metadata": {},
     "output_type": "display_data"
    },
    {
     "data": {
      "text/html": [
       "<iframe\n",
       "    scrolling=\"no\"\n",
       "    width=\"100%\"\n",
       "    height=\"545px\"\n",
       "    src=\"iframe_figures/figure_24.html\"\n",
       "    frameborder=\"0\"\n",
       "    allowfullscreen\n",
       "></iframe>\n"
      ]
     },
     "metadata": {},
     "output_type": "display_data"
    },
    {
     "data": {
      "text/html": [
       "<iframe\n",
       "    scrolling=\"no\"\n",
       "    width=\"100%\"\n",
       "    height=\"545px\"\n",
       "    src=\"iframe_figures/figure_24.html\"\n",
       "    frameborder=\"0\"\n",
       "    allowfullscreen\n",
       "></iframe>\n"
      ]
     },
     "metadata": {},
     "output_type": "display_data"
    },
    {
     "data": {
      "text/html": [
       "<iframe\n",
       "    scrolling=\"no\"\n",
       "    width=\"100%\"\n",
       "    height=\"545px\"\n",
       "    src=\"iframe_figures/figure_24.html\"\n",
       "    frameborder=\"0\"\n",
       "    allowfullscreen\n",
       "></iframe>\n"
      ]
     },
     "metadata": {},
     "output_type": "display_data"
    },
    {
     "data": {
      "text/html": [
       "<iframe\n",
       "    scrolling=\"no\"\n",
       "    width=\"100%\"\n",
       "    height=\"545px\"\n",
       "    src=\"iframe_figures/figure_24.html\"\n",
       "    frameborder=\"0\"\n",
       "    allowfullscreen\n",
       "></iframe>\n"
      ]
     },
     "metadata": {},
     "output_type": "display_data"
    }
   ],
   "source": [
    "#with eps=0.025\n",
    "for data in np.unique(data1[\"day\"]):\n",
    "\n",
    "    dat = data1.loc[data1[\"day\"]==data,[\"Lat\",\"Lon\"]]\n",
    "    dat = dat.sample(1000)\n",
    "    dbscan = DBSCAN(eps=0.025, metric = \"manhattan\")\n",
    "    dat.loc[:,'cluster'] = dbscan.fit_predict(dat)\n",
    "\n",
    "    fig = px.scatter_mapbox(dat, lat=\"Lat\", lon=\"Lon\", color=\"cluster\", zoom=10, mapbox_style=\"carto-positron\")\n",
    "    fig.show('iframe')"
   ]
  },
  {
   "cell_type": "code",
   "execution_count": 25,
   "metadata": {},
   "outputs": [
    {
     "data": {
      "text/html": [
       "<iframe\n",
       "    scrolling=\"no\"\n",
       "    width=\"100%\"\n",
       "    height=\"545px\"\n",
       "    src=\"iframe_figures/figure_25.html\"\n",
       "    frameborder=\"0\"\n",
       "    allowfullscreen\n",
       "></iframe>\n"
      ]
     },
     "metadata": {},
     "output_type": "display_data"
    },
    {
     "data": {
      "text/html": [
       "<iframe\n",
       "    scrolling=\"no\"\n",
       "    width=\"100%\"\n",
       "    height=\"545px\"\n",
       "    src=\"iframe_figures/figure_25.html\"\n",
       "    frameborder=\"0\"\n",
       "    allowfullscreen\n",
       "></iframe>\n"
      ]
     },
     "metadata": {},
     "output_type": "display_data"
    },
    {
     "data": {
      "text/html": [
       "<iframe\n",
       "    scrolling=\"no\"\n",
       "    width=\"100%\"\n",
       "    height=\"545px\"\n",
       "    src=\"iframe_figures/figure_25.html\"\n",
       "    frameborder=\"0\"\n",
       "    allowfullscreen\n",
       "></iframe>\n"
      ]
     },
     "metadata": {},
     "output_type": "display_data"
    },
    {
     "data": {
      "text/html": [
       "<iframe\n",
       "    scrolling=\"no\"\n",
       "    width=\"100%\"\n",
       "    height=\"545px\"\n",
       "    src=\"iframe_figures/figure_25.html\"\n",
       "    frameborder=\"0\"\n",
       "    allowfullscreen\n",
       "></iframe>\n"
      ]
     },
     "metadata": {},
     "output_type": "display_data"
    },
    {
     "data": {
      "text/html": [
       "<iframe\n",
       "    scrolling=\"no\"\n",
       "    width=\"100%\"\n",
       "    height=\"545px\"\n",
       "    src=\"iframe_figures/figure_25.html\"\n",
       "    frameborder=\"0\"\n",
       "    allowfullscreen\n",
       "></iframe>\n"
      ]
     },
     "metadata": {},
     "output_type": "display_data"
    },
    {
     "data": {
      "text/html": [
       "<iframe\n",
       "    scrolling=\"no\"\n",
       "    width=\"100%\"\n",
       "    height=\"545px\"\n",
       "    src=\"iframe_figures/figure_25.html\"\n",
       "    frameborder=\"0\"\n",
       "    allowfullscreen\n",
       "></iframe>\n"
      ]
     },
     "metadata": {},
     "output_type": "display_data"
    },
    {
     "data": {
      "text/html": [
       "<iframe\n",
       "    scrolling=\"no\"\n",
       "    width=\"100%\"\n",
       "    height=\"545px\"\n",
       "    src=\"iframe_figures/figure_25.html\"\n",
       "    frameborder=\"0\"\n",
       "    allowfullscreen\n",
       "></iframe>\n"
      ]
     },
     "metadata": {},
     "output_type": "display_data"
    }
   ],
   "source": [
    "#with eps=0.01\n",
    "for data in np.unique(data1[\"day\"]):\n",
    "\n",
    "    dat = data1.loc[data1[\"day\"]==data,[\"Lat\",\"Lon\"]]\n",
    "    dat = dat.sample(1000)\n",
    "    dbscan = DBSCAN(eps=0.01, metric = \"manhattan\")\n",
    "    dat.loc[:,'cluster'] = dbscan.fit_predict(dat)\n",
    "\n",
    "    fig = px.scatter_mapbox(dat, lat=\"Lat\", lon=\"Lon\", color=\"cluster\", zoom=10, mapbox_style=\"carto-positron\")\n",
    "    fig.show('iframe')"
   ]
  }
 ],
 "metadata": {
  "kernelspec": {
   "display_name": "Python 3",
   "language": "python",
   "name": "python3"
  },
  "language_info": {
   "codemirror_mode": {
    "name": "ipython",
    "version": 3
   },
   "file_extension": ".py",
   "mimetype": "text/x-python",
   "name": "python",
   "nbconvert_exporter": "python",
   "pygments_lexer": "ipython3",
   "version": "3.8.6"
  }
 },
 "nbformat": 4,
 "nbformat_minor": 4
}
