{
 "cells": [
  {
   "cell_type": "code",
   "execution_count": 1,
   "metadata": {},
   "outputs": [
    {
     "name": "stdout",
     "output_type": "stream",
     "text": [
      "Requirement already satisfied: boto3 in /opt/conda/lib/python3.8/site-packages (1.18.42)\n",
      "Requirement already satisfied: botocore<1.22.0,>=1.21.42 in /opt/conda/lib/python3.8/site-packages (from boto3) (1.21.42)\n",
      "Requirement already satisfied: s3transfer<0.6.0,>=0.5.0 in /opt/conda/lib/python3.8/site-packages (from boto3) (0.5.0)\n",
      "Requirement already satisfied: jmespath<1.0.0,>=0.7.1 in /opt/conda/lib/python3.8/site-packages (from boto3) (0.10.0)\n",
      "Requirement already satisfied: urllib3<1.27,>=1.25.4 in /opt/conda/lib/python3.8/site-packages (from botocore<1.22.0,>=1.21.42->boto3) (1.25.10)\n",
      "Requirement already satisfied: python-dateutil<3.0.0,>=2.1 in /opt/conda/lib/python3.8/site-packages (from botocore<1.22.0,>=1.21.42->boto3) (2.8.1)\n",
      "Requirement already satisfied: six>=1.5 in /opt/conda/lib/python3.8/site-packages (from python-dateutil<3.0.0,>=2.1->botocore<1.22.0,>=1.21.42->boto3) (1.15.0)\n",
      "Requirement already satisfied: plotly in /opt/conda/lib/python3.8/site-packages (5.3.1)\n",
      "Requirement already satisfied: six in /opt/conda/lib/python3.8/site-packages (from plotly) (1.15.0)\n",
      "Requirement already satisfied: tenacity>=6.2.0 in /opt/conda/lib/python3.8/site-packages (from plotly) (8.0.1)\n"
     ]
    }
   ],
   "source": [
    "!pip install boto3\n",
    "!pip install plotly"
   ]
  },
  {
   "cell_type": "code",
   "execution_count": 7,
   "metadata": {},
   "outputs": [],
   "source": [
    "# Import librairies\n",
    "import pandas as pd\n",
    "import glob\n",
    "import boto3"
   ]
  },
  {
   "cell_type": "code",
   "execution_count": 8,
   "metadata": {},
   "outputs": [
    {
     "data": {
      "text/html": [
       "<div>\n",
       "<style scoped>\n",
       "    .dataframe tbody tr th:only-of-type {\n",
       "        vertical-align: middle;\n",
       "    }\n",
       "\n",
       "    .dataframe tbody tr th {\n",
       "        vertical-align: top;\n",
       "    }\n",
       "\n",
       "    .dataframe thead th {\n",
       "        text-align: right;\n",
       "    }\n",
       "</style>\n",
       "<table border=\"1\" class=\"dataframe\">\n",
       "  <thead>\n",
       "    <tr style=\"text-align: right;\">\n",
       "      <th></th>\n",
       "      <th>ville_id</th>\n",
       "      <th>nom</th>\n",
       "      <th>latitude</th>\n",
       "      <th>longitude</th>\n",
       "      <th>meteo</th>\n",
       "      <th>proba_pluie</th>\n",
       "      <th>jour_temperature</th>\n",
       "      <th>rang</th>\n",
       "    </tr>\n",
       "  </thead>\n",
       "  <tbody>\n",
       "    <tr>\n",
       "      <th>0</th>\n",
       "      <td>20</td>\n",
       "      <td>Avignon</td>\n",
       "      <td>43.949249</td>\n",
       "      <td>4.805901</td>\n",
       "      <td>Clouds</td>\n",
       "      <td>0.5957</td>\n",
       "      <td>26.05</td>\n",
       "      <td>1</td>\n",
       "    </tr>\n",
       "    <tr>\n",
       "      <th>1</th>\n",
       "      <td>22</td>\n",
       "      <td>Nimes</td>\n",
       "      <td>43.837425</td>\n",
       "      <td>4.360069</td>\n",
       "      <td>Clouds</td>\n",
       "      <td>2.6465</td>\n",
       "      <td>26.17</td>\n",
       "      <td>2</td>\n",
       "    </tr>\n",
       "    <tr>\n",
       "      <th>2</th>\n",
       "      <td>15</td>\n",
       "      <td>Lyon</td>\n",
       "      <td>45.757814</td>\n",
       "      <td>4.832011</td>\n",
       "      <td>Rain</td>\n",
       "      <td>2.9370</td>\n",
       "      <td>19.72</td>\n",
       "      <td>3</td>\n",
       "    </tr>\n",
       "    <tr>\n",
       "      <th>3</th>\n",
       "      <td>21</td>\n",
       "      <td>Uzes</td>\n",
       "      <td>44.012128</td>\n",
       "      <td>4.419672</td>\n",
       "      <td>Clouds</td>\n",
       "      <td>3.5270</td>\n",
       "      <td>25.75</td>\n",
       "      <td>4</td>\n",
       "    </tr>\n",
       "    <tr>\n",
       "      <th>4</th>\n",
       "      <td>24</td>\n",
       "      <td>Saintes Maries de la mer</td>\n",
       "      <td>43.452277</td>\n",
       "      <td>4.428717</td>\n",
       "      <td>Clouds</td>\n",
       "      <td>3.6753</td>\n",
       "      <td>22.72</td>\n",
       "      <td>5</td>\n",
       "    </tr>\n",
       "  </tbody>\n",
       "</table>\n",
       "</div>"
      ],
      "text/plain": [
       "   ville_id                       nom   latitude  longitude   meteo  \\\n",
       "0        20                   Avignon  43.949249   4.805901  Clouds   \n",
       "1        22                     Nimes  43.837425   4.360069  Clouds   \n",
       "2        15                      Lyon  45.757814   4.832011    Rain   \n",
       "3        21                      Uzes  44.012128   4.419672  Clouds   \n",
       "4        24  Saintes Maries de la mer  43.452277   4.428717  Clouds   \n",
       "\n",
       "   proba_pluie  jour_temperature  rang  \n",
       "0       0.5957             26.05     1  \n",
       "1       2.6465             26.17     2  \n",
       "2       2.9370             19.72     3  \n",
       "3       3.5270             25.75     4  \n",
       "4       3.6753             22.72     5  "
      ]
     },
     "execution_count": 8,
     "metadata": {},
     "output_type": "execute_result"
    }
   ],
   "source": [
    "# Import dataset\n",
    "data = pd.read_csv('results_cities_to_visit.csv')\n",
    "data.head()"
   ]
  },
  {
   "cell_type": "code",
   "execution_count": 9,
   "metadata": {},
   "outputs": [
    {
     "data": {
      "text/plain": [
       "['Hotels_Paris.json',\n",
       " 'Hotels_Dijon.json',\n",
       " 'Hotels_Montauban.json',\n",
       " 'Hotels_Marseille.json',\n",
       " 'Hotels_Amiens.json',\n",
       " 'Hotels_Avignon.json',\n",
       " 'Hotels_Strasbourg.json',\n",
       " 'Hotels_Collioure.json',\n",
       " 'Hotels_Carcassonne.json',\n",
       " 'Hotels_Nimes.json',\n",
       " 'Hotels_Colmar.json',\n",
       " 'Hotels_Besancon.json',\n",
       " 'Hotels_Grenoble.json',\n",
       " 'Hotels_Biarritz.json',\n",
       " 'Hotels_St-Malo.json',\n",
       " 'Hotels_Annecy.json',\n",
       " 'Hotels_Aigues-Mortes.json',\n",
       " 'Hotels_Le-Havre.json',\n",
       " 'Hotels_Bayonne.json',\n",
       " 'Hotels_La-Rochelle.json',\n",
       " 'Hotels_Saintes-Maries-de-la-mer.json',\n",
       " 'Hotels_Toulouse.json',\n",
       " 'Hotels_Cassis.json',\n",
       " 'Hotels_Lille.json',\n",
       " 'Hotels_Bormes-les-Mimosas.json',\n",
       " 'Hotels_Eguisheim.json',\n",
       " 'Hotels_Uzes.json',\n",
       " 'Hotels_Aix-en-Provence.json',\n",
       " 'Hotels_Lyon.json',\n",
       " 'Hotels_Rouen.json',\n",
       " 'Hotels_Bayeux.json']"
      ]
     },
     "execution_count": 9,
     "metadata": {},
     "output_type": "execute_result"
    }
   ],
   "source": [
    "# # We recover with the .glob () function, the files which start with Hotels and which end with the .json format\n",
    "hotels_results = glob.glob('Hotels_*.json')\n",
    "hotels_results"
   ]
  },
  {
   "cell_type": "code",
   "execution_count": 10,
   "metadata": {},
   "outputs": [
    {
     "data": {
      "text/html": [
       "<div>\n",
       "<style scoped>\n",
       "    .dataframe tbody tr th:only-of-type {\n",
       "        vertical-align: middle;\n",
       "    }\n",
       "\n",
       "    .dataframe tbody tr th {\n",
       "        vertical-align: top;\n",
       "    }\n",
       "\n",
       "    .dataframe thead th {\n",
       "        text-align: right;\n",
       "    }\n",
       "</style>\n",
       "<table border=\"1\" class=\"dataframe\">\n",
       "  <thead>\n",
       "    <tr style=\"text-align: right;\">\n",
       "      <th></th>\n",
       "      <th>ville_id</th>\n",
       "      <th>ville_nom</th>\n",
       "      <th>hotel_id</th>\n",
       "      <th>url</th>\n",
       "      <th>latitude</th>\n",
       "      <th>longitude</th>\n",
       "      <th>score</th>\n",
       "      <th>description</th>\n",
       "    </tr>\n",
       "  </thead>\n",
       "  <tbody>\n",
       "  </tbody>\n",
       "</table>\n",
       "</div>"
      ],
      "text/plain": [
       "Empty DataFrame\n",
       "Columns: [ville_id, ville_nom, hotel_id, url, latitude, longitude, score, description]\n",
       "Index: []"
      ]
     },
     "execution_count": 10,
     "metadata": {},
     "output_type": "execute_result"
    }
   ],
   "source": [
    "# Create a new dataframe\n",
    "cols= ['ville_id', 'ville_nom', 'hotel_id', 'url', 'latitude', 'longitude', 'score', 'description']\n",
    "hotels = pd.DataFrame(columns = cols)\n",
    "hotels"
   ]
  },
  {
   "cell_type": "code",
   "execution_count": 11,
   "metadata": {},
   "outputs": [],
   "source": [
    "# Iteration on all .JSON files\n",
    "for h in hotels_results:\n",
    "    ville_nom = h.split('_')[1].split('.')[0].replace(\"-\",\" \") # Data separation with \"_\" and with \".\", we replace \"_\" by a space\n",
    "    ville_id = data.loc[data['nom'] == ville_nom,'ville_id'].values[0]\n",
    "     \n",
    "    # Reading .json  file(s) and  ville_id, hotel_id and ville_nom into the new dataframe\n",
    "    df = pd.read_json(h)\n",
    "    df = df.reset_index().rename({'index': 'hotel_id'}, axis = 1)\n",
    "    df.loc[:,'ville_id'] = ville_id\n",
    "    df.loc[:,'ville_nom'] = ville_nom\n",
    "    \n",
    "    #Cleaning text\n",
    "    df.loc[:, 'name'] = df['name'].str.replace('\\n', '') # We replace the symbol \\ n by spaces for the column \"nom\"\n",
    "    df.loc[:, 'url'] = df['url'].str.replace('\\n', '') # We replace the symbol \\ n by spaces for the column  \"url\"\n",
    "    df.loc[:, 'description'] = df['description'].str.replace('\\n', '') # We replace the symbol \\ n by spaces for the column \"description\"\n",
    "    \n",
    "    # Extracting latitude and longitude\n",
    "    df.loc[:,'coords'] = df['coords'].str.split(',') # Separation of coordinates with a comma\n",
    "    df.loc[:, 'longitude'] = df['coords'].apply(lambda x : x[0]) # Assigning longitude to index 0\n",
    "    df.loc[:, 'latitude'] = df['coords'].apply(lambda x : x[1]) # Assigning latitude to index 1\n",
    "    \n",
    "    # Removale \"coords\" column with drop() function (axis=1 is for column, axis=0 is for row)\n",
    "    df = df.drop('coords', axis=1)\n",
    "    \n",
    "    # Add into the dataframe \"hotels\"\n",
    "    hotels = hotels.append(df)"
   ]
  },
  {
   "cell_type": "code",
   "execution_count": 12,
   "metadata": {},
   "outputs": [],
   "source": [
    "hotels.loc[:, 'score'] = hotels['score'].replace(',','.') # Replacement of commas by dots in the \"score\" column\n"
   ]
  },
  {
   "cell_type": "code",
   "execution_count": 13,
   "metadata": {},
   "outputs": [],
   "source": [
    "# Sauvegarde du fichier \"hotels\" en fichier .csv\n",
    "hotels.to_csv('Hotels2.csv', index=False)"
   ]
  },
  {
   "cell_type": "code",
   "execution_count": null,
   "metadata": {},
   "outputs": [],
   "source": []
  }
 ],
 "metadata": {
  "kernelspec": {
   "display_name": "Python 3",
   "language": "python",
   "name": "python3"
  },
  "language_info": {
   "codemirror_mode": {
    "name": "ipython",
    "version": 3
   },
   "file_extension": ".py",
   "mimetype": "text/x-python",
   "name": "python",
   "nbconvert_exporter": "python",
   "pygments_lexer": "ipython3",
   "version": "3.8.6"
  }
 },
 "nbformat": 4,
 "nbformat_minor": 4
}
