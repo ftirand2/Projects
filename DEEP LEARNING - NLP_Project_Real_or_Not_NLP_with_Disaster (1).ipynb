{
 "cells": [
  {
   "cell_type": "markdown",
   "metadata": {},
   "source": [
    "# Projet - Real or Not? NLP with Disaster Tweets\n",
    "\n",
    "## Project description \n",
    "\n",
    "* Competition - https://www.kaggle.com/c/nlp-getting-started"
   ]
  },
  {
   "cell_type": "markdown",
   "metadata": {},
   "source": [
    "Install Tensorflow and plotly"
   ]
  },
  {
   "cell_type": "code",
   "execution_count": 1,
   "metadata": {},
   "outputs": [
    {
     "name": "stdout",
     "output_type": "stream",
     "text": [
      "Requirement already satisfied: tensorflow in /opt/conda/lib/python3.8/site-packages (2.6.0)\n",
      "Requirement already satisfied: absl-py~=0.10 in /opt/conda/lib/python3.8/site-packages (from tensorflow) (0.13.0)\n",
      "Requirement already satisfied: google-pasta~=0.2 in /opt/conda/lib/python3.8/site-packages (from tensorflow) (0.2.0)\n",
      "Requirement already satisfied: opt-einsum~=3.3.0 in /opt/conda/lib/python3.8/site-packages (from tensorflow) (3.3.0)\n",
      "Requirement already satisfied: wrapt~=1.12.1 in /opt/conda/lib/python3.8/site-packages (from tensorflow) (1.12.1)\n",
      "Requirement already satisfied: tensorflow-estimator~=2.6 in /opt/conda/lib/python3.8/site-packages (from tensorflow) (2.6.0)\n",
      "Requirement already satisfied: grpcio<2.0,>=1.37.0 in /opt/conda/lib/python3.8/site-packages (from tensorflow) (1.40.0)\n",
      "Requirement already satisfied: numpy~=1.19.2 in /opt/conda/lib/python3.8/site-packages (from tensorflow) (1.19.2)\n",
      "Requirement already satisfied: typing-extensions~=3.7.4 in /opt/conda/lib/python3.8/site-packages (from tensorflow) (3.7.4.3)\n",
      "Requirement already satisfied: keras~=2.6 in /opt/conda/lib/python3.8/site-packages (from tensorflow) (2.6.0)\n",
      "Requirement already satisfied: clang~=5.0 in /opt/conda/lib/python3.8/site-packages (from tensorflow) (5.0)\n",
      "Requirement already satisfied: termcolor~=1.1.0 in /opt/conda/lib/python3.8/site-packages (from tensorflow) (1.1.0)\n",
      "Requirement already satisfied: six~=1.15.0 in /opt/conda/lib/python3.8/site-packages (from tensorflow) (1.15.0)\n",
      "Requirement already satisfied: flatbuffers~=1.12.0 in /opt/conda/lib/python3.8/site-packages (from tensorflow) (1.12)\n",
      "Requirement already satisfied: protobuf>=3.9.2 in /opt/conda/lib/python3.8/site-packages (from tensorflow) (3.12.4)\n",
      "Requirement already satisfied: h5py~=3.1.0 in /opt/conda/lib/python3.8/site-packages (from tensorflow) (3.1.0)\n",
      "Requirement already satisfied: astunparse~=1.6.3 in /opt/conda/lib/python3.8/site-packages (from tensorflow) (1.6.3)\n",
      "Requirement already satisfied: keras-preprocessing~=1.1.2 in /opt/conda/lib/python3.8/site-packages (from tensorflow) (1.1.2)\n",
      "Requirement already satisfied: wheel~=0.35 in /opt/conda/lib/python3.8/site-packages (from tensorflow) (0.35.1)\n",
      "Requirement already satisfied: gast==0.4.0 in /opt/conda/lib/python3.8/site-packages (from tensorflow) (0.4.0)\n",
      "Requirement already satisfied: tensorboard~=2.6 in /opt/conda/lib/python3.8/site-packages (from tensorflow) (2.6.0)\n",
      "Requirement already satisfied: setuptools in /opt/conda/lib/python3.8/site-packages (from protobuf>=3.9.2->tensorflow) (49.6.0.post20201009)\n",
      "Requirement already satisfied: google-auth-oauthlib<0.5,>=0.4.1 in /opt/conda/lib/python3.8/site-packages (from tensorboard~=2.6->tensorflow) (0.4.6)\n",
      "Requirement already satisfied: google-auth<2,>=1.6.3 in /opt/conda/lib/python3.8/site-packages (from tensorboard~=2.6->tensorflow) (1.35.0)\n",
      "Requirement already satisfied: markdown>=2.6.8 in /opt/conda/lib/python3.8/site-packages (from tensorboard~=2.6->tensorflow) (3.3.4)\n",
      "Requirement already satisfied: requests<3,>=2.21.0 in /opt/conda/lib/python3.8/site-packages (from tensorboard~=2.6->tensorflow) (2.24.0)\n",
      "Requirement already satisfied: werkzeug>=0.11.15 in /opt/conda/lib/python3.8/site-packages (from tensorboard~=2.6->tensorflow) (2.0.1)\n",
      "Requirement already satisfied: tensorboard-plugin-wit>=1.6.0 in /opt/conda/lib/python3.8/site-packages (from tensorboard~=2.6->tensorflow) (1.8.0)\n",
      "Requirement already satisfied: tensorboard-data-server<0.7.0,>=0.6.0 in /opt/conda/lib/python3.8/site-packages (from tensorboard~=2.6->tensorflow) (0.6.1)\n",
      "Requirement already satisfied: requests-oauthlib>=0.7.0 in /opt/conda/lib/python3.8/site-packages (from google-auth-oauthlib<0.5,>=0.4.1->tensorboard~=2.6->tensorflow) (1.3.0)\n",
      "Requirement already satisfied: rsa<5,>=3.1.4; python_version >= \"3.6\" in /opt/conda/lib/python3.8/site-packages (from google-auth<2,>=1.6.3->tensorboard~=2.6->tensorflow) (4.7.2)\n",
      "Requirement already satisfied: pyasn1-modules>=0.2.1 in /opt/conda/lib/python3.8/site-packages (from google-auth<2,>=1.6.3->tensorboard~=2.6->tensorflow) (0.2.8)\n",
      "Requirement already satisfied: cachetools<5.0,>=2.0.0 in /opt/conda/lib/python3.8/site-packages (from google-auth<2,>=1.6.3->tensorboard~=2.6->tensorflow) (4.2.2)\n",
      "Requirement already satisfied: certifi>=2017.4.17 in /opt/conda/lib/python3.8/site-packages (from requests<3,>=2.21.0->tensorboard~=2.6->tensorflow) (2020.6.20)\n",
      "Requirement already satisfied: urllib3!=1.25.0,!=1.25.1,<1.26,>=1.21.1 in /opt/conda/lib/python3.8/site-packages (from requests<3,>=2.21.0->tensorboard~=2.6->tensorflow) (1.25.10)\n",
      "Requirement already satisfied: idna<3,>=2.5 in /opt/conda/lib/python3.8/site-packages (from requests<3,>=2.21.0->tensorboard~=2.6->tensorflow) (2.10)\n",
      "Requirement already satisfied: chardet<4,>=3.0.2 in /opt/conda/lib/python3.8/site-packages (from requests<3,>=2.21.0->tensorboard~=2.6->tensorflow) (3.0.4)\n",
      "Requirement already satisfied: oauthlib>=3.0.0 in /opt/conda/lib/python3.8/site-packages (from requests-oauthlib>=0.7.0->google-auth-oauthlib<0.5,>=0.4.1->tensorboard~=2.6->tensorflow) (3.0.1)\n",
      "Requirement already satisfied: pyasn1>=0.1.3 in /opt/conda/lib/python3.8/site-packages (from rsa<5,>=3.1.4; python_version >= \"3.6\"->google-auth<2,>=1.6.3->tensorboard~=2.6->tensorflow) (0.4.8)\n",
      "Requirement already satisfied: plotly in /opt/conda/lib/python3.8/site-packages (5.3.1)\n",
      "Requirement already satisfied: tenacity>=6.2.0 in /opt/conda/lib/python3.8/site-packages (from plotly) (8.0.1)\n",
      "Requirement already satisfied: six in /opt/conda/lib/python3.8/site-packages (from plotly) (1.15.0)\n"
     ]
    }
   ],
   "source": [
    "!pip install tensorflow\n",
    "!pip install plotly"
   ]
  },
  {
   "cell_type": "markdown",
   "metadata": {},
   "source": [
    "Import librairies"
   ]
  },
  {
   "cell_type": "code",
   "execution_count": 2,
   "metadata": {},
   "outputs": [],
   "source": [
    "import tensorflow as tf\n",
    "import numpy as np\n",
    "import pandas as pd\n",
    "import matplotlib.pyplot as plt\n",
    "from tensorflow.keras.losses import BinaryCrossentropy\n",
    "from tensorflow.keras.metrics import BinaryAccuracy"
   ]
  },
  {
   "cell_type": "markdown",
   "metadata": {},
   "source": [
    "Import datasets of the Kaggles's competition"
   ]
  },
  {
   "cell_type": "code",
   "execution_count": 3,
   "metadata": {},
   "outputs": [],
   "source": [
    "test_df=pd.read_csv(\"test.csv\")"
   ]
  },
  {
   "cell_type": "code",
   "execution_count": 4,
   "metadata": {},
   "outputs": [],
   "source": [
    "train_df=pd.read_csv(\"train.csv\")"
   ]
  },
  {
   "cell_type": "code",
   "execution_count": 5,
   "metadata": {},
   "outputs": [],
   "source": [
    "sample_df=pd.read_csv(\"sample_submission.csv\")"
   ]
  },
  {
   "cell_type": "markdown",
   "metadata": {},
   "source": [
    "Data analysis:display the first elements"
   ]
  },
  {
   "cell_type": "code",
   "execution_count": 6,
   "metadata": {},
   "outputs": [
    {
     "data": {
      "text/html": [
       "<div>\n",
       "<style scoped>\n",
       "    .dataframe tbody tr th:only-of-type {\n",
       "        vertical-align: middle;\n",
       "    }\n",
       "\n",
       "    .dataframe tbody tr th {\n",
       "        vertical-align: top;\n",
       "    }\n",
       "\n",
       "    .dataframe thead th {\n",
       "        text-align: right;\n",
       "    }\n",
       "</style>\n",
       "<table border=\"1\" class=\"dataframe\">\n",
       "  <thead>\n",
       "    <tr style=\"text-align: right;\">\n",
       "      <th></th>\n",
       "      <th>id</th>\n",
       "      <th>keyword</th>\n",
       "      <th>location</th>\n",
       "      <th>text</th>\n",
       "    </tr>\n",
       "  </thead>\n",
       "  <tbody>\n",
       "    <tr>\n",
       "      <th>0</th>\n",
       "      <td>0</td>\n",
       "      <td>NaN</td>\n",
       "      <td>NaN</td>\n",
       "      <td>Just happened a terrible car crash</td>\n",
       "    </tr>\n",
       "    <tr>\n",
       "      <th>1</th>\n",
       "      <td>2</td>\n",
       "      <td>NaN</td>\n",
       "      <td>NaN</td>\n",
       "      <td>Heard about #earthquake is different cities, s...</td>\n",
       "    </tr>\n",
       "    <tr>\n",
       "      <th>2</th>\n",
       "      <td>3</td>\n",
       "      <td>NaN</td>\n",
       "      <td>NaN</td>\n",
       "      <td>there is a forest fire at spot pond, geese are...</td>\n",
       "    </tr>\n",
       "    <tr>\n",
       "      <th>3</th>\n",
       "      <td>9</td>\n",
       "      <td>NaN</td>\n",
       "      <td>NaN</td>\n",
       "      <td>Apocalypse lighting. #Spokane #wildfires</td>\n",
       "    </tr>\n",
       "    <tr>\n",
       "      <th>4</th>\n",
       "      <td>11</td>\n",
       "      <td>NaN</td>\n",
       "      <td>NaN</td>\n",
       "      <td>Typhoon Soudelor kills 28 in China and Taiwan</td>\n",
       "    </tr>\n",
       "  </tbody>\n",
       "</table>\n",
       "</div>"
      ],
      "text/plain": [
       "   id keyword location                                               text\n",
       "0   0     NaN      NaN                 Just happened a terrible car crash\n",
       "1   2     NaN      NaN  Heard about #earthquake is different cities, s...\n",
       "2   3     NaN      NaN  there is a forest fire at spot pond, geese are...\n",
       "3   9     NaN      NaN           Apocalypse lighting. #Spokane #wildfires\n",
       "4  11     NaN      NaN      Typhoon Soudelor kills 28 in China and Taiwan"
      ]
     },
     "execution_count": 6,
     "metadata": {},
     "output_type": "execute_result"
    }
   ],
   "source": [
    "test_df.head()"
   ]
  },
  {
   "cell_type": "code",
   "execution_count": 7,
   "metadata": {},
   "outputs": [
    {
     "data": {
      "text/html": [
       "<div>\n",
       "<style scoped>\n",
       "    .dataframe tbody tr th:only-of-type {\n",
       "        vertical-align: middle;\n",
       "    }\n",
       "\n",
       "    .dataframe tbody tr th {\n",
       "        vertical-align: top;\n",
       "    }\n",
       "\n",
       "    .dataframe thead th {\n",
       "        text-align: right;\n",
       "    }\n",
       "</style>\n",
       "<table border=\"1\" class=\"dataframe\">\n",
       "  <thead>\n",
       "    <tr style=\"text-align: right;\">\n",
       "      <th></th>\n",
       "      <th>id</th>\n",
       "      <th>keyword</th>\n",
       "      <th>location</th>\n",
       "      <th>text</th>\n",
       "      <th>target</th>\n",
       "    </tr>\n",
       "  </thead>\n",
       "  <tbody>\n",
       "    <tr>\n",
       "      <th>0</th>\n",
       "      <td>1</td>\n",
       "      <td>NaN</td>\n",
       "      <td>NaN</td>\n",
       "      <td>Our Deeds are the Reason of this #earthquake M...</td>\n",
       "      <td>1</td>\n",
       "    </tr>\n",
       "    <tr>\n",
       "      <th>1</th>\n",
       "      <td>4</td>\n",
       "      <td>NaN</td>\n",
       "      <td>NaN</td>\n",
       "      <td>Forest fire near La Ronge Sask. Canada</td>\n",
       "      <td>1</td>\n",
       "    </tr>\n",
       "    <tr>\n",
       "      <th>2</th>\n",
       "      <td>5</td>\n",
       "      <td>NaN</td>\n",
       "      <td>NaN</td>\n",
       "      <td>All residents asked to 'shelter in place' are ...</td>\n",
       "      <td>1</td>\n",
       "    </tr>\n",
       "    <tr>\n",
       "      <th>3</th>\n",
       "      <td>6</td>\n",
       "      <td>NaN</td>\n",
       "      <td>NaN</td>\n",
       "      <td>13,000 people receive #wildfires evacuation or...</td>\n",
       "      <td>1</td>\n",
       "    </tr>\n",
       "    <tr>\n",
       "      <th>4</th>\n",
       "      <td>7</td>\n",
       "      <td>NaN</td>\n",
       "      <td>NaN</td>\n",
       "      <td>Just got sent this photo from Ruby #Alaska as ...</td>\n",
       "      <td>1</td>\n",
       "    </tr>\n",
       "  </tbody>\n",
       "</table>\n",
       "</div>"
      ],
      "text/plain": [
       "   id keyword location                                               text  \\\n",
       "0   1     NaN      NaN  Our Deeds are the Reason of this #earthquake M...   \n",
       "1   4     NaN      NaN             Forest fire near La Ronge Sask. Canada   \n",
       "2   5     NaN      NaN  All residents asked to 'shelter in place' are ...   \n",
       "3   6     NaN      NaN  13,000 people receive #wildfires evacuation or...   \n",
       "4   7     NaN      NaN  Just got sent this photo from Ruby #Alaska as ...   \n",
       "\n",
       "   target  \n",
       "0       1  \n",
       "1       1  \n",
       "2       1  \n",
       "3       1  \n",
       "4       1  "
      ]
     },
     "execution_count": 7,
     "metadata": {},
     "output_type": "execute_result"
    }
   ],
   "source": [
    "train_df.head()"
   ]
  },
  {
   "cell_type": "code",
   "execution_count": 8,
   "metadata": {},
   "outputs": [
    {
     "data": {
      "text/html": [
       "<div>\n",
       "<style scoped>\n",
       "    .dataframe tbody tr th:only-of-type {\n",
       "        vertical-align: middle;\n",
       "    }\n",
       "\n",
       "    .dataframe tbody tr th {\n",
       "        vertical-align: top;\n",
       "    }\n",
       "\n",
       "    .dataframe thead th {\n",
       "        text-align: right;\n",
       "    }\n",
       "</style>\n",
       "<table border=\"1\" class=\"dataframe\">\n",
       "  <thead>\n",
       "    <tr style=\"text-align: right;\">\n",
       "      <th></th>\n",
       "      <th>id</th>\n",
       "      <th>target</th>\n",
       "    </tr>\n",
       "  </thead>\n",
       "  <tbody>\n",
       "    <tr>\n",
       "      <th>0</th>\n",
       "      <td>0</td>\n",
       "      <td>0</td>\n",
       "    </tr>\n",
       "    <tr>\n",
       "      <th>1</th>\n",
       "      <td>2</td>\n",
       "      <td>0</td>\n",
       "    </tr>\n",
       "    <tr>\n",
       "      <th>2</th>\n",
       "      <td>3</td>\n",
       "      <td>0</td>\n",
       "    </tr>\n",
       "    <tr>\n",
       "      <th>3</th>\n",
       "      <td>9</td>\n",
       "      <td>0</td>\n",
       "    </tr>\n",
       "    <tr>\n",
       "      <th>4</th>\n",
       "      <td>11</td>\n",
       "      <td>0</td>\n",
       "    </tr>\n",
       "  </tbody>\n",
       "</table>\n",
       "</div>"
      ],
      "text/plain": [
       "   id  target\n",
       "0   0       0\n",
       "1   2       0\n",
       "2   3       0\n",
       "3   9       0\n",
       "4  11       0"
      ]
     },
     "execution_count": 8,
     "metadata": {},
     "output_type": "execute_result"
    }
   ],
   "source": [
    "sample_df.head()"
   ]
  },
  {
   "cell_type": "markdown",
   "metadata": {},
   "source": [
    "Display one element of column 'text'"
   ]
  },
  {
   "cell_type": "code",
   "execution_count": 9,
   "metadata": {},
   "outputs": [
    {
     "data": {
      "text/plain": [
       "'Heard about #earthquake is different cities, stay safe everyone.'"
      ]
     },
     "execution_count": 9,
     "metadata": {},
     "output_type": "execute_result"
    }
   ],
   "source": [
    "test_df['text'][1] #Presence of capital letters,, punctuation and special characters"
   ]
  },
  {
   "cell_type": "code",
   "execution_count": 10,
   "metadata": {},
   "outputs": [
    {
     "data": {
      "text/plain": [
       "'Our Deeds are the Reason of this #earthquake May ALLAH Forgive us all'"
      ]
     },
     "execution_count": 10,
     "metadata": {},
     "output_type": "execute_result"
    }
   ],
   "source": [
    "train_df['text'][0]"
   ]
  },
  {
   "cell_type": "markdown",
   "metadata": {},
   "source": [
    "Détermine the size of th differents datasets:"
   ]
  },
  {
   "cell_type": "code",
   "execution_count": 11,
   "metadata": {},
   "outputs": [
    {
     "name": "stdout",
     "output_type": "stream",
     "text": [
      "Number of rows and columns in the train data: (7613, 5)\n"
     ]
    }
   ],
   "source": [
    "print(\"Number of rows and columns in the train data:\",train_df.shape)"
   ]
  },
  {
   "cell_type": "code",
   "execution_count": 12,
   "metadata": {},
   "outputs": [
    {
     "name": "stdout",
     "output_type": "stream",
     "text": [
      "Number of rows and columns in the test data: (3263, 4)\n"
     ]
    }
   ],
   "source": [
    "print(\"Number of rows and columns in the test data:\",test_df.shape)"
   ]
  },
  {
   "cell_type": "code",
   "execution_count": 13,
   "metadata": {},
   "outputs": [
    {
     "name": "stdout",
     "output_type": "stream",
     "text": [
      "Number of rows and columns in the sample data: (3263, 2)\n"
     ]
    }
   ],
   "source": [
    "print(\"Number of rows and columns in the sample data:\",sample_df.shape)"
   ]
  },
  {
   "cell_type": "markdown",
   "metadata": {},
   "source": [
    "Preprocessing:removal of capital letters, punctuation and special characters\n",
    "Create a cleaning function"
   ]
  },
  {
   "cell_type": "code",
   "execution_count": 14,
   "metadata": {},
   "outputs": [],
   "source": [
    "import string\n",
    "def cleaning(text):\n",
    "    text=text.lower().strip()\n",
    "    text=text.translate(str.maketrans('', '', string.punctuation))\n",
    "    text=''.join(ch for ch in text if ch.isalnum() or ch==\" \")\n",
    "    return text"
   ]
  },
  {
   "cell_type": "markdown",
   "metadata": {},
   "source": [
    "Apply the cleaning function to train_df dataset and test_df dataset"
   ]
  },
  {
   "cell_type": "code",
   "execution_count": 15,
   "metadata": {},
   "outputs": [],
   "source": [
    "train_df['text_clean']=train_df['text'].apply(lambda x: cleaning(x))"
   ]
  },
  {
   "cell_type": "code",
   "execution_count": 16,
   "metadata": {},
   "outputs": [
    {
     "data": {
      "text/html": [
       "<div>\n",
       "<style scoped>\n",
       "    .dataframe tbody tr th:only-of-type {\n",
       "        vertical-align: middle;\n",
       "    }\n",
       "\n",
       "    .dataframe tbody tr th {\n",
       "        vertical-align: top;\n",
       "    }\n",
       "\n",
       "    .dataframe thead th {\n",
       "        text-align: right;\n",
       "    }\n",
       "</style>\n",
       "<table border=\"1\" class=\"dataframe\">\n",
       "  <thead>\n",
       "    <tr style=\"text-align: right;\">\n",
       "      <th></th>\n",
       "      <th>id</th>\n",
       "      <th>keyword</th>\n",
       "      <th>location</th>\n",
       "      <th>text</th>\n",
       "      <th>target</th>\n",
       "      <th>text_clean</th>\n",
       "    </tr>\n",
       "  </thead>\n",
       "  <tbody>\n",
       "    <tr>\n",
       "      <th>0</th>\n",
       "      <td>1</td>\n",
       "      <td>NaN</td>\n",
       "      <td>NaN</td>\n",
       "      <td>Our Deeds are the Reason of this #earthquake M...</td>\n",
       "      <td>1</td>\n",
       "      <td>our deeds are the reason of this earthquake ma...</td>\n",
       "    </tr>\n",
       "    <tr>\n",
       "      <th>1</th>\n",
       "      <td>4</td>\n",
       "      <td>NaN</td>\n",
       "      <td>NaN</td>\n",
       "      <td>Forest fire near La Ronge Sask. Canada</td>\n",
       "      <td>1</td>\n",
       "      <td>forest fire near la ronge sask canada</td>\n",
       "    </tr>\n",
       "    <tr>\n",
       "      <th>2</th>\n",
       "      <td>5</td>\n",
       "      <td>NaN</td>\n",
       "      <td>NaN</td>\n",
       "      <td>All residents asked to 'shelter in place' are ...</td>\n",
       "      <td>1</td>\n",
       "      <td>all residents asked to shelter in place are be...</td>\n",
       "    </tr>\n",
       "    <tr>\n",
       "      <th>3</th>\n",
       "      <td>6</td>\n",
       "      <td>NaN</td>\n",
       "      <td>NaN</td>\n",
       "      <td>13,000 people receive #wildfires evacuation or...</td>\n",
       "      <td>1</td>\n",
       "      <td>13000 people receive wildfires evacuation orde...</td>\n",
       "    </tr>\n",
       "    <tr>\n",
       "      <th>4</th>\n",
       "      <td>7</td>\n",
       "      <td>NaN</td>\n",
       "      <td>NaN</td>\n",
       "      <td>Just got sent this photo from Ruby #Alaska as ...</td>\n",
       "      <td>1</td>\n",
       "      <td>just got sent this photo from ruby alaska as s...</td>\n",
       "    </tr>\n",
       "  </tbody>\n",
       "</table>\n",
       "</div>"
      ],
      "text/plain": [
       "   id keyword location                                               text  \\\n",
       "0   1     NaN      NaN  Our Deeds are the Reason of this #earthquake M...   \n",
       "1   4     NaN      NaN             Forest fire near La Ronge Sask. Canada   \n",
       "2   5     NaN      NaN  All residents asked to 'shelter in place' are ...   \n",
       "3   6     NaN      NaN  13,000 people receive #wildfires evacuation or...   \n",
       "4   7     NaN      NaN  Just got sent this photo from Ruby #Alaska as ...   \n",
       "\n",
       "   target                                         text_clean  \n",
       "0       1  our deeds are the reason of this earthquake ma...  \n",
       "1       1              forest fire near la ronge sask canada  \n",
       "2       1  all residents asked to shelter in place are be...  \n",
       "3       1  13000 people receive wildfires evacuation orde...  \n",
       "4       1  just got sent this photo from ruby alaska as s...  "
      ]
     },
     "execution_count": 16,
     "metadata": {},
     "output_type": "execute_result"
    }
   ],
   "source": [
    "train_df.head()"
   ]
  },
  {
   "cell_type": "code",
   "execution_count": 17,
   "metadata": {},
   "outputs": [],
   "source": [
    "test_df['text_clean']=test_df['text'].apply(lambda x: cleaning(x))"
   ]
  },
  {
   "cell_type": "code",
   "execution_count": 18,
   "metadata": {},
   "outputs": [
    {
     "data": {
      "text/html": [
       "<div>\n",
       "<style scoped>\n",
       "    .dataframe tbody tr th:only-of-type {\n",
       "        vertical-align: middle;\n",
       "    }\n",
       "\n",
       "    .dataframe tbody tr th {\n",
       "        vertical-align: top;\n",
       "    }\n",
       "\n",
       "    .dataframe thead th {\n",
       "        text-align: right;\n",
       "    }\n",
       "</style>\n",
       "<table border=\"1\" class=\"dataframe\">\n",
       "  <thead>\n",
       "    <tr style=\"text-align: right;\">\n",
       "      <th></th>\n",
       "      <th>id</th>\n",
       "      <th>keyword</th>\n",
       "      <th>location</th>\n",
       "      <th>text</th>\n",
       "      <th>text_clean</th>\n",
       "    </tr>\n",
       "  </thead>\n",
       "  <tbody>\n",
       "    <tr>\n",
       "      <th>0</th>\n",
       "      <td>0</td>\n",
       "      <td>NaN</td>\n",
       "      <td>NaN</td>\n",
       "      <td>Just happened a terrible car crash</td>\n",
       "      <td>just happened a terrible car crash</td>\n",
       "    </tr>\n",
       "    <tr>\n",
       "      <th>1</th>\n",
       "      <td>2</td>\n",
       "      <td>NaN</td>\n",
       "      <td>NaN</td>\n",
       "      <td>Heard about #earthquake is different cities, s...</td>\n",
       "      <td>heard about earthquake is different cities sta...</td>\n",
       "    </tr>\n",
       "    <tr>\n",
       "      <th>2</th>\n",
       "      <td>3</td>\n",
       "      <td>NaN</td>\n",
       "      <td>NaN</td>\n",
       "      <td>there is a forest fire at spot pond, geese are...</td>\n",
       "      <td>there is a forest fire at spot pond geese are ...</td>\n",
       "    </tr>\n",
       "    <tr>\n",
       "      <th>3</th>\n",
       "      <td>9</td>\n",
       "      <td>NaN</td>\n",
       "      <td>NaN</td>\n",
       "      <td>Apocalypse lighting. #Spokane #wildfires</td>\n",
       "      <td>apocalypse lighting spokane wildfires</td>\n",
       "    </tr>\n",
       "    <tr>\n",
       "      <th>4</th>\n",
       "      <td>11</td>\n",
       "      <td>NaN</td>\n",
       "      <td>NaN</td>\n",
       "      <td>Typhoon Soudelor kills 28 in China and Taiwan</td>\n",
       "      <td>typhoon soudelor kills 28 in china and taiwan</td>\n",
       "    </tr>\n",
       "  </tbody>\n",
       "</table>\n",
       "</div>"
      ],
      "text/plain": [
       "   id keyword location                                               text  \\\n",
       "0   0     NaN      NaN                 Just happened a terrible car crash   \n",
       "1   2     NaN      NaN  Heard about #earthquake is different cities, s...   \n",
       "2   3     NaN      NaN  there is a forest fire at spot pond, geese are...   \n",
       "3   9     NaN      NaN           Apocalypse lighting. #Spokane #wildfires   \n",
       "4  11     NaN      NaN      Typhoon Soudelor kills 28 in China and Taiwan   \n",
       "\n",
       "                                          text_clean  \n",
       "0                 just happened a terrible car crash  \n",
       "1  heard about earthquake is different cities sta...  \n",
       "2  there is a forest fire at spot pond geese are ...  \n",
       "3              apocalypse lighting spokane wildfires  \n",
       "4      typhoon soudelor kills 28 in china and taiwan  "
      ]
     },
     "execution_count": 18,
     "metadata": {},
     "output_type": "execute_result"
    }
   ],
   "source": [
    "test_df.head()"
   ]
  },
  {
   "cell_type": "markdown",
   "metadata": {},
   "source": [
    "Check missing values into the datasets"
   ]
  },
  {
   "cell_type": "code",
   "execution_count": 19,
   "metadata": {},
   "outputs": [
    {
     "data": {
      "text/plain": [
       "id            0.000000\n",
       "keyword       0.008013\n",
       "location      0.332720\n",
       "text          0.000000\n",
       "target        0.000000\n",
       "text_clean    0.000000\n",
       "dtype: float64"
      ]
     },
     "execution_count": 19,
     "metadata": {},
     "output_type": "execute_result"
    }
   ],
   "source": [
    "train_df.isnull().sum()/len(train_df)"
   ]
  },
  {
   "cell_type": "code",
   "execution_count": 20,
   "metadata": {},
   "outputs": [
    {
     "data": {
      "text/plain": [
       "id            0.000000\n",
       "keyword       0.007968\n",
       "location      0.338645\n",
       "text          0.000000\n",
       "text_clean    0.000000\n",
       "dtype: float64"
      ]
     },
     "execution_count": 20,
     "metadata": {},
     "output_type": "execute_result"
    }
   ],
   "source": [
    "test_df.isnull().sum()/len(test_df)"
   ]
  },
  {
   "cell_type": "markdown",
   "metadata": {},
   "source": [
    "We can delete the \"keyword\" column because this column takes words from the tweets: no interest here.\n",
    "The \"location\" column has a rate of missing values of 33%: we can therefore delete"
   ]
  },
  {
   "cell_type": "markdown",
   "metadata": {},
   "source": [
    "Removal of \"keyword \" and \"location \"columns"
   ]
  },
  {
   "cell_type": "code",
   "execution_count": 21,
   "metadata": {},
   "outputs": [],
   "source": [
    "train_df=train_df.drop([\"keyword\",\"location\"],axis=1)"
   ]
  },
  {
   "cell_type": "code",
   "execution_count": 22,
   "metadata": {},
   "outputs": [
    {
     "data": {
      "text/html": [
       "<div>\n",
       "<style scoped>\n",
       "    .dataframe tbody tr th:only-of-type {\n",
       "        vertical-align: middle;\n",
       "    }\n",
       "\n",
       "    .dataframe tbody tr th {\n",
       "        vertical-align: top;\n",
       "    }\n",
       "\n",
       "    .dataframe thead th {\n",
       "        text-align: right;\n",
       "    }\n",
       "</style>\n",
       "<table border=\"1\" class=\"dataframe\">\n",
       "  <thead>\n",
       "    <tr style=\"text-align: right;\">\n",
       "      <th></th>\n",
       "      <th>id</th>\n",
       "      <th>text</th>\n",
       "      <th>target</th>\n",
       "      <th>text_clean</th>\n",
       "    </tr>\n",
       "  </thead>\n",
       "  <tbody>\n",
       "    <tr>\n",
       "      <th>0</th>\n",
       "      <td>1</td>\n",
       "      <td>Our Deeds are the Reason of this #earthquake M...</td>\n",
       "      <td>1</td>\n",
       "      <td>our deeds are the reason of this earthquake ma...</td>\n",
       "    </tr>\n",
       "    <tr>\n",
       "      <th>1</th>\n",
       "      <td>4</td>\n",
       "      <td>Forest fire near La Ronge Sask. Canada</td>\n",
       "      <td>1</td>\n",
       "      <td>forest fire near la ronge sask canada</td>\n",
       "    </tr>\n",
       "    <tr>\n",
       "      <th>2</th>\n",
       "      <td>5</td>\n",
       "      <td>All residents asked to 'shelter in place' are ...</td>\n",
       "      <td>1</td>\n",
       "      <td>all residents asked to shelter in place are be...</td>\n",
       "    </tr>\n",
       "    <tr>\n",
       "      <th>3</th>\n",
       "      <td>6</td>\n",
       "      <td>13,000 people receive #wildfires evacuation or...</td>\n",
       "      <td>1</td>\n",
       "      <td>13000 people receive wildfires evacuation orde...</td>\n",
       "    </tr>\n",
       "    <tr>\n",
       "      <th>4</th>\n",
       "      <td>7</td>\n",
       "      <td>Just got sent this photo from Ruby #Alaska as ...</td>\n",
       "      <td>1</td>\n",
       "      <td>just got sent this photo from ruby alaska as s...</td>\n",
       "    </tr>\n",
       "  </tbody>\n",
       "</table>\n",
       "</div>"
      ],
      "text/plain": [
       "   id                                               text  target  \\\n",
       "0   1  Our Deeds are the Reason of this #earthquake M...       1   \n",
       "1   4             Forest fire near La Ronge Sask. Canada       1   \n",
       "2   5  All residents asked to 'shelter in place' are ...       1   \n",
       "3   6  13,000 people receive #wildfires evacuation or...       1   \n",
       "4   7  Just got sent this photo from Ruby #Alaska as ...       1   \n",
       "\n",
       "                                          text_clean  \n",
       "0  our deeds are the reason of this earthquake ma...  \n",
       "1              forest fire near la ronge sask canada  \n",
       "2  all residents asked to shelter in place are be...  \n",
       "3  13000 people receive wildfires evacuation orde...  \n",
       "4  just got sent this photo from ruby alaska as s...  "
      ]
     },
     "execution_count": 22,
     "metadata": {},
     "output_type": "execute_result"
    }
   ],
   "source": [
    "train_df.head()"
   ]
  },
  {
   "cell_type": "code",
   "execution_count": 23,
   "metadata": {},
   "outputs": [
    {
     "data": {
      "text/plain": [
       "(7613,)"
      ]
     },
     "execution_count": 23,
     "metadata": {},
     "output_type": "execute_result"
    }
   ],
   "source": [
    "train_df.text.shape"
   ]
  },
  {
   "cell_type": "markdown",
   "metadata": {},
   "source": [
    "Removal of \"keyword \" and \"location \"columns"
   ]
  },
  {
   "cell_type": "code",
   "execution_count": 24,
   "metadata": {},
   "outputs": [],
   "source": [
    "test_df=test_df.drop([\"keyword\",\"location\"],axis=1)"
   ]
  },
  {
   "cell_type": "code",
   "execution_count": 25,
   "metadata": {},
   "outputs": [
    {
     "data": {
      "text/html": [
       "<div>\n",
       "<style scoped>\n",
       "    .dataframe tbody tr th:only-of-type {\n",
       "        vertical-align: middle;\n",
       "    }\n",
       "\n",
       "    .dataframe tbody tr th {\n",
       "        vertical-align: top;\n",
       "    }\n",
       "\n",
       "    .dataframe thead th {\n",
       "        text-align: right;\n",
       "    }\n",
       "</style>\n",
       "<table border=\"1\" class=\"dataframe\">\n",
       "  <thead>\n",
       "    <tr style=\"text-align: right;\">\n",
       "      <th></th>\n",
       "      <th>id</th>\n",
       "      <th>text</th>\n",
       "      <th>text_clean</th>\n",
       "    </tr>\n",
       "  </thead>\n",
       "  <tbody>\n",
       "    <tr>\n",
       "      <th>0</th>\n",
       "      <td>0</td>\n",
       "      <td>Just happened a terrible car crash</td>\n",
       "      <td>just happened a terrible car crash</td>\n",
       "    </tr>\n",
       "    <tr>\n",
       "      <th>1</th>\n",
       "      <td>2</td>\n",
       "      <td>Heard about #earthquake is different cities, s...</td>\n",
       "      <td>heard about earthquake is different cities sta...</td>\n",
       "    </tr>\n",
       "    <tr>\n",
       "      <th>2</th>\n",
       "      <td>3</td>\n",
       "      <td>there is a forest fire at spot pond, geese are...</td>\n",
       "      <td>there is a forest fire at spot pond geese are ...</td>\n",
       "    </tr>\n",
       "    <tr>\n",
       "      <th>3</th>\n",
       "      <td>9</td>\n",
       "      <td>Apocalypse lighting. #Spokane #wildfires</td>\n",
       "      <td>apocalypse lighting spokane wildfires</td>\n",
       "    </tr>\n",
       "    <tr>\n",
       "      <th>4</th>\n",
       "      <td>11</td>\n",
       "      <td>Typhoon Soudelor kills 28 in China and Taiwan</td>\n",
       "      <td>typhoon soudelor kills 28 in china and taiwan</td>\n",
       "    </tr>\n",
       "  </tbody>\n",
       "</table>\n",
       "</div>"
      ],
      "text/plain": [
       "   id                                               text  \\\n",
       "0   0                 Just happened a terrible car crash   \n",
       "1   2  Heard about #earthquake is different cities, s...   \n",
       "2   3  there is a forest fire at spot pond, geese are...   \n",
       "3   9           Apocalypse lighting. #Spokane #wildfires   \n",
       "4  11      Typhoon Soudelor kills 28 in China and Taiwan   \n",
       "\n",
       "                                          text_clean  \n",
       "0                 just happened a terrible car crash  \n",
       "1  heard about earthquake is different cities sta...  \n",
       "2  there is a forest fire at spot pond geese are ...  \n",
       "3              apocalypse lighting spokane wildfires  \n",
       "4      typhoon soudelor kills 28 in china and taiwan  "
      ]
     },
     "execution_count": 25,
     "metadata": {},
     "output_type": "execute_result"
    }
   ],
   "source": [
    "test_df.head()"
   ]
  },
  {
   "cell_type": "code",
   "execution_count": 26,
   "metadata": {},
   "outputs": [
    {
     "name": "stdout",
     "output_type": "stream",
     "text": [
      "Requirement already satisfied: spacy in /opt/conda/lib/python3.8/site-packages (3.1.2)\n",
      "Requirement already satisfied: requests<3.0.0,>=2.13.0 in /opt/conda/lib/python3.8/site-packages (from spacy) (2.24.0)\n",
      "Requirement already satisfied: murmurhash<1.1.0,>=0.28.0 in /opt/conda/lib/python3.8/site-packages (from spacy) (1.0.5)\n",
      "Requirement already satisfied: tqdm<5.0.0,>=4.38.0 in /opt/conda/lib/python3.8/site-packages (from spacy) (4.50.2)\n",
      "Requirement already satisfied: setuptools in /opt/conda/lib/python3.8/site-packages (from spacy) (49.6.0.post20201009)\n",
      "Requirement already satisfied: preshed<3.1.0,>=3.0.2 in /opt/conda/lib/python3.8/site-packages (from spacy) (3.0.5)\n",
      "Requirement already satisfied: wasabi<1.1.0,>=0.8.1 in /opt/conda/lib/python3.8/site-packages (from spacy) (0.8.2)\n",
      "Requirement already satisfied: cymem<2.1.0,>=2.0.2 in /opt/conda/lib/python3.8/site-packages (from spacy) (2.0.5)\n",
      "Requirement already satisfied: srsly<3.0.0,>=2.4.1 in /opt/conda/lib/python3.8/site-packages (from spacy) (2.4.1)\n",
      "Requirement already satisfied: catalogue<2.1.0,>=2.0.4 in /opt/conda/lib/python3.8/site-packages (from spacy) (2.0.6)\n",
      "Requirement already satisfied: jinja2 in /opt/conda/lib/python3.8/site-packages (from spacy) (2.11.2)\n",
      "Requirement already satisfied: numpy>=1.15.0 in /opt/conda/lib/python3.8/site-packages (from spacy) (1.19.2)\n",
      "Requirement already satisfied: pathy>=0.3.5 in /opt/conda/lib/python3.8/site-packages (from spacy) (0.6.0)\n",
      "Requirement already satisfied: pydantic!=1.8,!=1.8.1,<1.9.0,>=1.7.4 in /opt/conda/lib/python3.8/site-packages (from spacy) (1.8.2)\n",
      "Requirement already satisfied: blis<0.8.0,>=0.4.0 in /opt/conda/lib/python3.8/site-packages (from spacy) (0.7.4)\n",
      "Requirement already satisfied: typer<0.4.0,>=0.3.0 in /opt/conda/lib/python3.8/site-packages (from spacy) (0.3.2)\n",
      "Requirement already satisfied: thinc<8.1.0,>=8.0.8 in /opt/conda/lib/python3.8/site-packages (from spacy) (8.0.10)\n",
      "Requirement already satisfied: packaging>=20.0 in /opt/conda/lib/python3.8/site-packages (from spacy) (20.4)\n",
      "Requirement already satisfied: spacy-legacy<3.1.0,>=3.0.7 in /opt/conda/lib/python3.8/site-packages (from spacy) (3.0.8)\n",
      "Requirement already satisfied: idna<3,>=2.5 in /opt/conda/lib/python3.8/site-packages (from requests<3.0.0,>=2.13.0->spacy) (2.10)\n",
      "Requirement already satisfied: certifi>=2017.4.17 in /opt/conda/lib/python3.8/site-packages (from requests<3.0.0,>=2.13.0->spacy) (2020.6.20)\n",
      "Requirement already satisfied: urllib3!=1.25.0,!=1.25.1,<1.26,>=1.21.1 in /opt/conda/lib/python3.8/site-packages (from requests<3.0.0,>=2.13.0->spacy) (1.25.10)\n",
      "Requirement already satisfied: chardet<4,>=3.0.2 in /opt/conda/lib/python3.8/site-packages (from requests<3.0.0,>=2.13.0->spacy) (3.0.4)\n",
      "Requirement already satisfied: MarkupSafe>=0.23 in /opt/conda/lib/python3.8/site-packages (from jinja2->spacy) (1.1.1)\n",
      "Requirement already satisfied: smart-open<6.0.0,>=5.0.0 in /opt/conda/lib/python3.8/site-packages (from pathy>=0.3.5->spacy) (5.2.1)\n",
      "Requirement already satisfied: typing-extensions>=3.7.4.3 in /opt/conda/lib/python3.8/site-packages (from pydantic!=1.8,!=1.8.1,<1.9.0,>=1.7.4->spacy) (3.7.4.3)\n",
      "Requirement already satisfied: click<7.2.0,>=7.1.1 in /opt/conda/lib/python3.8/site-packages (from typer<0.4.0,>=0.3.0->spacy) (7.1.2)\n",
      "Requirement already satisfied: six in /opt/conda/lib/python3.8/site-packages (from packaging>=20.0->spacy) (1.15.0)\n",
      "Requirement already satisfied: pyparsing>=2.0.2 in /opt/conda/lib/python3.8/site-packages (from packaging>=20.0->spacy) (2.4.7)\n"
     ]
    },
    {
     "data": {
      "text/plain": [
       "'3.1.2'"
      ]
     },
     "execution_count": 26,
     "metadata": {},
     "output_type": "execute_result"
    }
   ],
   "source": [
    "!pip install spacy\n",
    "import spacy\n",
    "spacy.__version__"
   ]
  },
  {
   "cell_type": "markdown",
   "metadata": {},
   "source": [
    "import module in order to remove stop words in english"
   ]
  },
  {
   "cell_type": "code",
   "execution_count": 27,
   "metadata": {},
   "outputs": [],
   "source": [
    "import en_core_web_sm\n",
    "nlp = en_core_web_sm.load()"
   ]
  },
  {
   "cell_type": "code",
   "execution_count": 28,
   "metadata": {},
   "outputs": [],
   "source": [
    "from spacy.lang.en.stop_words import STOP_WORDS"
   ]
  },
  {
   "cell_type": "markdown",
   "metadata": {},
   "source": [
    "Lemmatization :create a lemmatization function"
   ]
  },
  {
   "cell_type": "code",
   "execution_count": 29,
   "metadata": {},
   "outputs": [],
   "source": [
    "def lemma(text):\n",
    "    text=nlp(text)\n",
    "    lemma = ' '.join([token.lemma_ for token in text if token.text not in STOP_WORDS])\n",
    "    return lemma"
   ]
  },
  {
   "cell_type": "markdown",
   "metadata": {},
   "source": [
    "Apply the lemmatization function to train_df dataset"
   ]
  },
  {
   "cell_type": "code",
   "execution_count": 30,
   "metadata": {},
   "outputs": [
    {
     "data": {
      "text/html": [
       "<div>\n",
       "<style scoped>\n",
       "    .dataframe tbody tr th:only-of-type {\n",
       "        vertical-align: middle;\n",
       "    }\n",
       "\n",
       "    .dataframe tbody tr th {\n",
       "        vertical-align: top;\n",
       "    }\n",
       "\n",
       "    .dataframe thead th {\n",
       "        text-align: right;\n",
       "    }\n",
       "</style>\n",
       "<table border=\"1\" class=\"dataframe\">\n",
       "  <thead>\n",
       "    <tr style=\"text-align: right;\">\n",
       "      <th></th>\n",
       "      <th>id</th>\n",
       "      <th>text</th>\n",
       "      <th>target</th>\n",
       "      <th>text_clean</th>\n",
       "      <th>text_lemma</th>\n",
       "    </tr>\n",
       "  </thead>\n",
       "  <tbody>\n",
       "    <tr>\n",
       "      <th>0</th>\n",
       "      <td>1</td>\n",
       "      <td>Our Deeds are the Reason of this #earthquake M...</td>\n",
       "      <td>1</td>\n",
       "      <td>our deeds are the reason of this earthquake ma...</td>\n",
       "      <td>deed reason earthquake allah forgive</td>\n",
       "    </tr>\n",
       "    <tr>\n",
       "      <th>1</th>\n",
       "      <td>4</td>\n",
       "      <td>Forest fire near La Ronge Sask. Canada</td>\n",
       "      <td>1</td>\n",
       "      <td>forest fire near la ronge sask canada</td>\n",
       "      <td>forest fire near la ronge sask canada</td>\n",
       "    </tr>\n",
       "    <tr>\n",
       "      <th>2</th>\n",
       "      <td>5</td>\n",
       "      <td>All residents asked to 'shelter in place' are ...</td>\n",
       "      <td>1</td>\n",
       "      <td>all residents asked to shelter in place are be...</td>\n",
       "      <td>resident ask shelter place notify officer evac...</td>\n",
       "    </tr>\n",
       "    <tr>\n",
       "      <th>3</th>\n",
       "      <td>6</td>\n",
       "      <td>13,000 people receive #wildfires evacuation or...</td>\n",
       "      <td>1</td>\n",
       "      <td>13000 people receive wildfires evacuation orde...</td>\n",
       "      <td>13000 people receive wildfire evacuation order...</td>\n",
       "    </tr>\n",
       "    <tr>\n",
       "      <th>4</th>\n",
       "      <td>7</td>\n",
       "      <td>Just got sent this photo from Ruby #Alaska as ...</td>\n",
       "      <td>1</td>\n",
       "      <td>just got sent this photo from ruby alaska as s...</td>\n",
       "      <td>got send photo ruby alaska smoke wildfire pour...</td>\n",
       "    </tr>\n",
       "  </tbody>\n",
       "</table>\n",
       "</div>"
      ],
      "text/plain": [
       "   id                                               text  target  \\\n",
       "0   1  Our Deeds are the Reason of this #earthquake M...       1   \n",
       "1   4             Forest fire near La Ronge Sask. Canada       1   \n",
       "2   5  All residents asked to 'shelter in place' are ...       1   \n",
       "3   6  13,000 people receive #wildfires evacuation or...       1   \n",
       "4   7  Just got sent this photo from Ruby #Alaska as ...       1   \n",
       "\n",
       "                                          text_clean  \\\n",
       "0  our deeds are the reason of this earthquake ma...   \n",
       "1              forest fire near la ronge sask canada   \n",
       "2  all residents asked to shelter in place are be...   \n",
       "3  13000 people receive wildfires evacuation orde...   \n",
       "4  just got sent this photo from ruby alaska as s...   \n",
       "\n",
       "                                          text_lemma  \n",
       "0               deed reason earthquake allah forgive  \n",
       "1              forest fire near la ronge sask canada  \n",
       "2  resident ask shelter place notify officer evac...  \n",
       "3  13000 people receive wildfire evacuation order...  \n",
       "4  got send photo ruby alaska smoke wildfire pour...  "
      ]
     },
     "execution_count": 30,
     "metadata": {},
     "output_type": "execute_result"
    }
   ],
   "source": [
    "train_df[\"text_lemma\"] = train_df[\"text_clean\"].apply(lambda x: lemma(x))\n",
    "train_df.head()"
   ]
  },
  {
   "cell_type": "markdown",
   "metadata": {},
   "source": [
    "Tokenization: create a tokenizer"
   ]
  },
  {
   "cell_type": "code",
   "execution_count": 31,
   "metadata": {},
   "outputs": [
    {
     "data": {
      "text/plain": [
       "<keras_preprocessing.text.Tokenizer at 0x7fa20767d520>"
      ]
     },
     "execution_count": 31,
     "metadata": {},
     "output_type": "execute_result"
    }
   ],
   "source": [
    "tokenizer = tf.keras.preprocessing.text.Tokenizer()\n",
    "tokenizer"
   ]
  },
  {
   "cell_type": "markdown",
   "metadata": {},
   "source": [
    "Encoding a text_lemma column "
   ]
  },
  {
   "cell_type": "code",
   "execution_count": 32,
   "metadata": {},
   "outputs": [],
   "source": [
    "token_train=tokenizer.fit_on_texts(train_df[\"text_lemma\"])\n",
    "token_train"
   ]
  },
  {
   "cell_type": "code",
   "execution_count": 33,
   "metadata": {},
   "outputs": [
    {
     "data": {
      "text/html": [
       "<div>\n",
       "<style scoped>\n",
       "    .dataframe tbody tr th:only-of-type {\n",
       "        vertical-align: middle;\n",
       "    }\n",
       "\n",
       "    .dataframe tbody tr th {\n",
       "        vertical-align: top;\n",
       "    }\n",
       "\n",
       "    .dataframe thead th {\n",
       "        text-align: right;\n",
       "    }\n",
       "</style>\n",
       "<table border=\"1\" class=\"dataframe\">\n",
       "  <thead>\n",
       "    <tr style=\"text-align: right;\">\n",
       "      <th></th>\n",
       "      <th>id</th>\n",
       "      <th>text</th>\n",
       "      <th>target</th>\n",
       "      <th>text_clean</th>\n",
       "      <th>text_lemma</th>\n",
       "      <th>text_encoded</th>\n",
       "    </tr>\n",
       "  </thead>\n",
       "  <tbody>\n",
       "    <tr>\n",
       "      <th>0</th>\n",
       "      <td>1</td>\n",
       "      <td>Our Deeds are the Reason of this #earthquake M...</td>\n",
       "      <td>1</td>\n",
       "      <td>our deeds are the reason of this earthquake ma...</td>\n",
       "      <td>deed reason earthquake allah forgive</td>\n",
       "      <td>[3690, 427, 178, 1399, 1720]</td>\n",
       "    </tr>\n",
       "    <tr>\n",
       "      <th>1</th>\n",
       "      <td>4</td>\n",
       "      <td>Forest fire near La Ronge Sask. Canada</td>\n",
       "      <td>1</td>\n",
       "      <td>forest fire near la ronge sask canada</td>\n",
       "      <td>forest fire near la ronge sask canada</td>\n",
       "      <td>[124, 4, 165, 526, 5575, 5576, 1033]</td>\n",
       "    </tr>\n",
       "    <tr>\n",
       "      <th>2</th>\n",
       "      <td>5</td>\n",
       "      <td>All residents asked to 'shelter in place' are ...</td>\n",
       "      <td>1</td>\n",
       "      <td>all residents asked to shelter in place are be...</td>\n",
       "      <td>resident ask shelter place notify officer evac...</td>\n",
       "      <td>[1400, 458, 1721, 339, 5577, 307, 192, 1721, 3...</td>\n",
       "    </tr>\n",
       "    <tr>\n",
       "      <th>3</th>\n",
       "      <td>6</td>\n",
       "      <td>13,000 people receive #wildfires evacuation or...</td>\n",
       "      <td>1</td>\n",
       "      <td>13000 people receive wildfires evacuation orde...</td>\n",
       "      <td>13000 people receive wildfire evacuation order...</td>\n",
       "      <td>[2332, 8, 2333, 73, 192, 292, 39]</td>\n",
       "    </tr>\n",
       "    <tr>\n",
       "      <th>4</th>\n",
       "      <td>7</td>\n",
       "      <td>Just got sent this photo from Ruby #Alaska as ...</td>\n",
       "      <td>1</td>\n",
       "      <td>just got sent this photo from ruby alaska as s...</td>\n",
       "      <td>got send photo ruby alaska smoke wildfire pour...</td>\n",
       "      <td>[282, 185, 130, 5578, 1722, 179, 73, 2334, 113]</td>\n",
       "    </tr>\n",
       "  </tbody>\n",
       "</table>\n",
       "</div>"
      ],
      "text/plain": [
       "   id                                               text  target  \\\n",
       "0   1  Our Deeds are the Reason of this #earthquake M...       1   \n",
       "1   4             Forest fire near La Ronge Sask. Canada       1   \n",
       "2   5  All residents asked to 'shelter in place' are ...       1   \n",
       "3   6  13,000 people receive #wildfires evacuation or...       1   \n",
       "4   7  Just got sent this photo from Ruby #Alaska as ...       1   \n",
       "\n",
       "                                          text_clean  \\\n",
       "0  our deeds are the reason of this earthquake ma...   \n",
       "1              forest fire near la ronge sask canada   \n",
       "2  all residents asked to shelter in place are be...   \n",
       "3  13000 people receive wildfires evacuation orde...   \n",
       "4  just got sent this photo from ruby alaska as s...   \n",
       "\n",
       "                                          text_lemma  \\\n",
       "0               deed reason earthquake allah forgive   \n",
       "1              forest fire near la ronge sask canada   \n",
       "2  resident ask shelter place notify officer evac...   \n",
       "3  13000 people receive wildfire evacuation order...   \n",
       "4  got send photo ruby alaska smoke wildfire pour...   \n",
       "\n",
       "                                        text_encoded  \n",
       "0                       [3690, 427, 178, 1399, 1720]  \n",
       "1               [124, 4, 165, 526, 5575, 5576, 1033]  \n",
       "2  [1400, 458, 1721, 339, 5577, 307, 192, 1721, 3...  \n",
       "3                  [2332, 8, 2333, 73, 192, 292, 39]  \n",
       "4    [282, 185, 130, 5578, 1722, 179, 73, 2334, 113]  "
      ]
     },
     "execution_count": 33,
     "metadata": {},
     "output_type": "execute_result"
    }
   ],
   "source": [
    "train_df[\"text_encoded\"] = tokenizer.texts_to_sequences(train_df[\"text_lemma\"])\n",
    "train_df.head()"
   ]
  },
  {
   "cell_type": "markdown",
   "metadata": {},
   "source": [
    "Padding"
   ]
  },
  {
   "cell_type": "code",
   "execution_count": 34,
   "metadata": {},
   "outputs": [
    {
     "data": {
      "text/plain": [
       "array([[3690,  427,  178, ...,    0,    0,    0],\n",
       "       [ 124,    4,  165, ...,    0,    0,    0],\n",
       "       [1400,  458, 1721, ...,    0,    0,    0],\n",
       "       ...,\n",
       "       [2718, 3684, 5543, ...,    0,    0,    0],\n",
       "       [  26,  755, 2602, ...,    0,    0,    0],\n",
       "       [ 106,   28,  372, ...,    0,    0,    0]], dtype=int32)"
      ]
     },
     "execution_count": 34,
     "metadata": {},
     "output_type": "execute_result"
    }
   ],
   "source": [
    "train_df_pad = tf.keras.preprocessing.sequence.pad_sequences(train_df.text_encoded, padding=\"post\")\n",
    "train_df_pad"
   ]
  },
  {
   "cell_type": "markdown",
   "metadata": {},
   "source": [
    "Creata a tensorflow dataset"
   ]
  },
  {
   "cell_type": "code",
   "execution_count": 35,
   "metadata": {},
   "outputs": [],
   "source": [
    "train_df_full=tf.data.Dataset.from_tensor_slices((train_df_pad, train_df.target.values))"
   ]
  },
  {
   "cell_type": "code",
   "execution_count": 36,
   "metadata": {},
   "outputs": [
    {
     "data": {
      "text/plain": [
       "<TensorSliceDataset shapes: ((25,), ()), types: (tf.int32, tf.int64)>"
      ]
     },
     "execution_count": 36,
     "metadata": {},
     "output_type": "execute_result"
    }
   ],
   "source": [
    "train_df_full"
   ]
  },
  {
   "cell_type": "markdown",
   "metadata": {},
   "source": [
    "Train/Test split"
   ]
  },
  {
   "cell_type": "code",
   "execution_count": 37,
   "metadata": {},
   "outputs": [],
   "source": [
    "TAKE_SIZE = int(0.7*train_df.shape[0])"
   ]
  },
  {
   "cell_type": "code",
   "execution_count": 38,
   "metadata": {},
   "outputs": [],
   "source": [
    "train_data = train_df_full.take(TAKE_SIZE).shuffle(TAKE_SIZE)\n",
    "train_data = train_data.batch(64)"
   ]
  },
  {
   "cell_type": "code",
   "execution_count": 39,
   "metadata": {},
   "outputs": [],
   "source": [
    "test_data = train_df_full.skip(TAKE_SIZE)\n",
    "test_data = test_data.batch(64)"
   ]
  },
  {
   "cell_type": "code",
   "execution_count": 40,
   "metadata": {},
   "outputs": [
    {
     "name": "stdout",
     "output_type": "stream",
     "text": [
      "tf.Tensor(\n",
      "[[ 4210 16202    40 ...     0     0     0]\n",
      " [  426   918   116 ...     0     0     0]\n",
      " [16207 16208 16209 ...     0     0     0]\n",
      " ...\n",
      " [  100    21   468 ...     0     0     0]\n",
      " [  113    59    95 ...     0     0     0]\n",
      " [  100    21    82 ...     0     0     0]], shape=(64, 25), dtype=int32) tf.Tensor(\n",
      "[0 0 0 1 0 1 0 0 0 0 1 0 0 0 0 0 0 0 0 0 0 0 0 0 0 1 1 0 0 0 0 0 0 0 0 0 0\n",
      " 0 0 0 0 1 0 0 0 1 0 0 0 0 0 0 0 0 0 0 0 0 1 0 0 0 0 0], shape=(64,), dtype=int64)\n"
     ]
    }
   ],
   "source": [
    "for text, labels in test_data.take(1):\n",
    "    print(text,labels)"
   ]
  },
  {
   "cell_type": "markdown",
   "metadata": {},
   "source": [
    "Create a model"
   ]
  },
  {
   "cell_type": "code",
   "execution_count": 41,
   "metadata": {},
   "outputs": [
    {
     "data": {
      "text/plain": [
       "20406"
      ]
     },
     "execution_count": 41,
     "metadata": {},
     "output_type": "execute_result"
    }
   ],
   "source": [
    "vocab_size = len(tokenizer.word_index)\n",
    "vocab_size"
   ]
  },
  {
   "cell_type": "code",
   "execution_count": 42,
   "metadata": {},
   "outputs": [],
   "source": [
    "model = tf.keras.Sequential([\n",
    "                  # Input Word Embedding layer         \n",
    "                  tf.keras.layers.Embedding(vocab_size+1, 64, input_shape=[25,]),\n",
    "\n",
    "                  # flatten output\n",
    "                  tf.keras.layers.Flatten()   ,       \n",
    "\n",
    "                  #  Dense layer \n",
    "                  tf.keras.layers.Dense(64, activation='relu'),\n",
    "                  tf.keras.layers.Dropout(0.3),\n",
    "                  tf.keras.layers.Dense(32, activation='relu'),\n",
    "                  tf.keras.layers.Dropout(0.3),\n",
    "                  tf.keras.layers.Dense(16, activation='relu'),\n",
    "                  tf.keras.layers.Dropout(0.3),\n",
    "                  tf.keras.layers.Dense(8, activation='relu'),\n",
    "\n",
    "                  # Last layer is a Dense Layer with sigmoid function\n",
    "                  tf.keras.layers.Dense(1, activation=\"sigmoid\")\n",
    "                                              \n",
    "])"
   ]
  },
  {
   "cell_type": "code",
   "execution_count": 43,
   "metadata": {},
   "outputs": [
    {
     "name": "stdout",
     "output_type": "stream",
     "text": [
      "Model: \"sequential\"\n",
      "_________________________________________________________________\n",
      "Layer (type)                 Output Shape              Param #   \n",
      "=================================================================\n",
      "embedding (Embedding)        (None, 25, 64)            1306048   \n",
      "_________________________________________________________________\n",
      "flatten (Flatten)            (None, 1600)              0         \n",
      "_________________________________________________________________\n",
      "dense (Dense)                (None, 64)                102464    \n",
      "_________________________________________________________________\n",
      "dropout (Dropout)            (None, 64)                0         \n",
      "_________________________________________________________________\n",
      "dense_1 (Dense)              (None, 32)                2080      \n",
      "_________________________________________________________________\n",
      "dropout_1 (Dropout)          (None, 32)                0         \n",
      "_________________________________________________________________\n",
      "dense_2 (Dense)              (None, 16)                528       \n",
      "_________________________________________________________________\n",
      "dropout_2 (Dropout)          (None, 16)                0         \n",
      "_________________________________________________________________\n",
      "dense_3 (Dense)              (None, 8)                 136       \n",
      "_________________________________________________________________\n",
      "dense_4 (Dense)              (None, 1)                 9         \n",
      "=================================================================\n",
      "Total params: 1,411,265\n",
      "Trainable params: 1,411,265\n",
      "Non-trainable params: 0\n",
      "_________________________________________________________________\n"
     ]
    }
   ],
   "source": [
    "model.summary()"
   ]
  },
  {
   "cell_type": "code",
   "execution_count": 44,
   "metadata": {},
   "outputs": [],
   "source": [
    "optimizer= tf.keras.optimizers.Adam(0.01)"
   ]
  },
  {
   "cell_type": "code",
   "execution_count": 45,
   "metadata": {},
   "outputs": [],
   "source": [
    "model.compile(optimizer=optimizer,\n",
    "              loss=BinaryCrossentropy(),\n",
    "              metrics=[BinaryAccuracy()])"
   ]
  },
  {
   "cell_type": "markdown",
   "metadata": {},
   "source": [
    "Train the model"
   ]
  },
  {
   "cell_type": "code",
   "execution_count": 46,
   "metadata": {},
   "outputs": [
    {
     "name": "stdout",
     "output_type": "stream",
     "text": [
      "Epoch 1/40\n",
      "84/84 [==============================] - 2s 16ms/step - loss: 0.6700 - binary_accuracy: 0.5772 - val_loss: 0.6204 - val_binary_accuracy: 0.7185\n",
      "Epoch 2/40\n",
      "84/84 [==============================] - 1s 13ms/step - loss: 0.4239 - binary_accuracy: 0.8394 - val_loss: 0.5367 - val_binary_accuracy: 0.7544\n",
      "Epoch 3/40\n",
      "84/84 [==============================] - 1s 13ms/step - loss: 0.1355 - binary_accuracy: 0.9587 - val_loss: 0.5541 - val_binary_accuracy: 0.7255\n",
      "Epoch 4/40\n",
      "84/84 [==============================] - 1s 14ms/step - loss: 0.0841 - binary_accuracy: 0.9769 - val_loss: 0.5776 - val_binary_accuracy: 0.7373\n",
      "Epoch 5/40\n",
      "84/84 [==============================] - 1s 12ms/step - loss: 0.0533 - binary_accuracy: 0.9801 - val_loss: 1.0252 - val_binary_accuracy: 0.6953\n",
      "Epoch 6/40\n",
      "84/84 [==============================] - 1s 12ms/step - loss: 0.0352 - binary_accuracy: 0.9844 - val_loss: 0.8282 - val_binary_accuracy: 0.7123\n",
      "Epoch 7/40\n",
      "84/84 [==============================] - 1s 12ms/step - loss: 0.0361 - binary_accuracy: 0.9872 - val_loss: 1.1740 - val_binary_accuracy: 0.7215\n",
      "Epoch 8/40\n",
      "84/84 [==============================] - 1s 13ms/step - loss: 0.0304 - binary_accuracy: 0.9889 - val_loss: 1.4929 - val_binary_accuracy: 0.7198\n",
      "Epoch 9/40\n",
      "84/84 [==============================] - 1s 12ms/step - loss: 0.0228 - binary_accuracy: 0.9899 - val_loss: 1.4509 - val_binary_accuracy: 0.7215\n",
      "Epoch 10/40\n",
      "84/84 [==============================] - 1s 13ms/step - loss: 0.0214 - binary_accuracy: 0.9895 - val_loss: 1.2384 - val_binary_accuracy: 0.7264\n",
      "Epoch 11/40\n",
      "84/84 [==============================] - 1s 14ms/step - loss: 0.0231 - binary_accuracy: 0.9904 - val_loss: 1.0006 - val_binary_accuracy: 0.7347\n",
      "Epoch 12/40\n",
      "84/84 [==============================] - 1s 13ms/step - loss: 0.0219 - binary_accuracy: 0.9921 - val_loss: 1.2556 - val_binary_accuracy: 0.7290\n",
      "Epoch 13/40\n",
      "84/84 [==============================] - 1s 13ms/step - loss: 0.0159 - binary_accuracy: 0.9914 - val_loss: 2.0307 - val_binary_accuracy: 0.7176\n",
      "Epoch 14/40\n",
      "84/84 [==============================] - 1s 12ms/step - loss: 0.0277 - binary_accuracy: 0.9912 - val_loss: 1.3879 - val_binary_accuracy: 0.7299\n",
      "Epoch 15/40\n",
      "84/84 [==============================] - 1s 12ms/step - loss: 0.0158 - binary_accuracy: 0.9931 - val_loss: 1.3196 - val_binary_accuracy: 0.7215\n",
      "Epoch 16/40\n",
      "84/84 [==============================] - 1s 12ms/step - loss: 0.0140 - binary_accuracy: 0.9927 - val_loss: 1.7026 - val_binary_accuracy: 0.7215\n",
      "Epoch 17/40\n",
      "84/84 [==============================] - 1s 12ms/step - loss: 0.0198 - binary_accuracy: 0.9921 - val_loss: 0.9797 - val_binary_accuracy: 0.7320\n",
      "Epoch 18/40\n",
      "84/84 [==============================] - 1s 13ms/step - loss: 0.0164 - binary_accuracy: 0.9902 - val_loss: 1.9076 - val_binary_accuracy: 0.7334\n",
      "Epoch 19/40\n",
      "84/84 [==============================] - 1s 12ms/step - loss: 0.0311 - binary_accuracy: 0.9901 - val_loss: 0.7975 - val_binary_accuracy: 0.6751\n",
      "Epoch 20/40\n",
      "84/84 [==============================] - 1s 13ms/step - loss: 0.0567 - binary_accuracy: 0.9901 - val_loss: 1.0018 - val_binary_accuracy: 0.7237\n",
      "Epoch 21/40\n",
      "84/84 [==============================] - 1s 13ms/step - loss: 0.0477 - binary_accuracy: 0.9917 - val_loss: 1.3516 - val_binary_accuracy: 0.7194\n",
      "Epoch 22/40\n",
      "84/84 [==============================] - 1s 13ms/step - loss: 0.0229 - binary_accuracy: 0.9906 - val_loss: 1.6325 - val_binary_accuracy: 0.6524\n",
      "Epoch 23/40\n",
      "84/84 [==============================] - 1s 12ms/step - loss: 0.0302 - binary_accuracy: 0.9910 - val_loss: 1.5131 - val_binary_accuracy: 0.6979\n",
      "Epoch 24/40\n",
      "84/84 [==============================] - 1s 12ms/step - loss: 0.0563 - binary_accuracy: 0.9902 - val_loss: 1.1497 - val_binary_accuracy: 0.6865\n",
      "Epoch 25/40\n",
      "84/84 [==============================] - 1s 13ms/step - loss: 0.0167 - binary_accuracy: 0.9927 - val_loss: 1.5429 - val_binary_accuracy: 0.6414\n",
      "Epoch 26/40\n",
      "84/84 [==============================] - 1s 12ms/step - loss: 0.0211 - binary_accuracy: 0.9917 - val_loss: 1.0937 - val_binary_accuracy: 0.7067\n",
      "Epoch 27/40\n",
      "84/84 [==============================] - 1s 12ms/step - loss: 0.0151 - binary_accuracy: 0.9940 - val_loss: 1.7900 - val_binary_accuracy: 0.6913\n",
      "Epoch 28/40\n",
      "84/84 [==============================] - 1s 13ms/step - loss: 0.0361 - binary_accuracy: 0.9929 - val_loss: 1.2749 - val_binary_accuracy: 0.6664\n",
      "Epoch 29/40\n",
      "84/84 [==============================] - 1s 12ms/step - loss: 0.0147 - binary_accuracy: 0.9934 - val_loss: 2.5591 - val_binary_accuracy: 0.7189\n",
      "Epoch 30/40\n",
      "84/84 [==============================] - 1s 12ms/step - loss: 0.0207 - binary_accuracy: 0.9919 - val_loss: 1.5745 - val_binary_accuracy: 0.6957\n",
      "Epoch 31/40\n",
      "84/84 [==============================] - 1s 12ms/step - loss: 0.0128 - binary_accuracy: 0.9946 - val_loss: 2.0636 - val_binary_accuracy: 0.7172\n",
      "Epoch 32/40\n",
      "84/84 [==============================] - 1s 13ms/step - loss: 0.0110 - binary_accuracy: 0.9940 - val_loss: 1.6879 - val_binary_accuracy: 0.6909\n",
      "Epoch 33/40\n",
      "84/84 [==============================] - 1s 13ms/step - loss: 0.0092 - binary_accuracy: 0.9955 - val_loss: 1.9930 - val_binary_accuracy: 0.7154\n",
      "Epoch 34/40\n",
      "84/84 [==============================] - 1s 12ms/step - loss: 0.0085 - binary_accuracy: 0.9949 - val_loss: 2.3549 - val_binary_accuracy: 0.7027\n",
      "Epoch 35/40\n",
      "84/84 [==============================] - 1s 12ms/step - loss: 0.0111 - binary_accuracy: 0.9957 - val_loss: 2.0020 - val_binary_accuracy: 0.7023\n",
      "Epoch 36/40\n",
      "84/84 [==============================] - 1s 13ms/step - loss: 0.0079 - binary_accuracy: 0.9957 - val_loss: 2.5550 - val_binary_accuracy: 0.7045\n",
      "Epoch 37/40\n",
      "84/84 [==============================] - 1s 13ms/step - loss: 0.0093 - binary_accuracy: 0.9942 - val_loss: 2.1759 - val_binary_accuracy: 0.6712\n",
      "Epoch 38/40\n",
      "84/84 [==============================] - 1s 13ms/step - loss: 0.0083 - binary_accuracy: 0.9953 - val_loss: 2.1105 - val_binary_accuracy: 0.6926\n",
      "Epoch 39/40\n",
      "84/84 [==============================] - 1s 13ms/step - loss: 0.0080 - binary_accuracy: 0.9947 - val_loss: 2.4582 - val_binary_accuracy: 0.7010\n",
      "Epoch 40/40\n",
      "84/84 [==============================] - 1s 13ms/step - loss: 0.0129 - binary_accuracy: 0.9942 - val_loss: 2.0403 - val_binary_accuracy: 0.7071\n"
     ]
    }
   ],
   "source": [
    "history = model.fit(train_data, epochs=40, validation_data=test_data)"
   ]
  },
  {
   "cell_type": "markdown",
   "metadata": {},
   "source": [
    "Evaluation"
   ]
  },
  {
   "cell_type": "code",
   "execution_count": 47,
   "metadata": {},
   "outputs": [
    {
     "data": {
      "image/png": "[encoded data removed]",
      "text/plain": [
       "<Figure size 432x288 with 1 Axes>"
      ]
     },
     "metadata": {
      "needs_background": "light"
     },
     "output_type": "display_data"
    }
   ],
   "source": [
    "# Visualization of the training process on the loss function \n",
    "plt.plot(history.history[\"loss\"], color=\"b\")\n",
    "plt.plot(history.history[\"val_loss\"], color=\"r\")\n",
    "plt.ylabel(\"loss\")\n",
    "plt.xlabel(\"Epochs\")\n",
    "plt.show()"
   ]
  },
  {
   "cell_type": "code",
   "execution_count": 48,
   "metadata": {},
   "outputs": [
    {
     "data": {
      "image/png": "[encoded data removed]",
      "text/plain": [
       "<Figure size 432x288 with 1 Axes>"
      ]
     },
     "metadata": {
      "needs_background": "light"
     },
     "output_type": "display_data"
    }
   ],
   "source": [
    "# Visualization of accuracy training \n",
    "plt.plot(history.history[\"binary_accuracy\"], color=\"b\")\n",
    "plt.plot(history.history[\"val_binary_accuracy\"], color=\"r\")\n",
    "plt.ylabel(\"accuracy\")\n",
    "plt.xlabel(\"Epochs\")\n",
    "plt.show()"
   ]
  },
  {
   "cell_type": "markdown",
   "metadata": {},
   "source": [
    "Try to improve the results by using ExponentialDecay Method"
   ]
  },
  {
   "cell_type": "code",
   "execution_count": 49,
   "metadata": {},
   "outputs": [],
   "source": [
    "initial_rate = 0.1"
   ]
  },
  {
   "cell_type": "code",
   "execution_count": 50,
   "metadata": {},
   "outputs": [],
   "source": [
    "lr_schedule = tf.keras.optimizers.schedules.ExponentialDecay(\n",
    "    initial_rate,\n",
    "    decay_steps=1000,\n",
    "    decay_rate=0.96,\n",
    "    staircase=True)"
   ]
  },
  {
   "cell_type": "code",
   "execution_count": 51,
   "metadata": {},
   "outputs": [],
   "source": [
    "optimizer= tf.keras.optimizers.Adam(\n",
    "    learning_rate = lr_schedule\n",
    ")"
   ]
  },
  {
   "cell_type": "code",
   "execution_count": 52,
   "metadata": {},
   "outputs": [],
   "source": [
    "model.compile(optimizer=optimizer,\n",
    "              loss=BinaryCrossentropy(),\n",
    "              metrics=[BinaryAccuracy()])"
   ]
  },
  {
   "cell_type": "code",
   "execution_count": 53,
   "metadata": {},
   "outputs": [
    {
     "name": "stdout",
     "output_type": "stream",
     "text": [
      "Epoch 1/40\n",
      "84/84 [==============================] - 2s 14ms/step - loss: 0.8360 - binary_accuracy: 0.6375 - val_loss: 0.6906 - val_binary_accuracy: 0.5582\n",
      "Epoch 2/40\n",
      "84/84 [==============================] - 1s 12ms/step - loss: 0.6831 - binary_accuracy: 0.5757 - val_loss: 0.6869 - val_binary_accuracy: 0.5582\n",
      "Epoch 3/40\n",
      "84/84 [==============================] - 1s 11ms/step - loss: 0.6823 - binary_accuracy: 0.5757 - val_loss: 0.6873 - val_binary_accuracy: 0.5582\n",
      "Epoch 4/40\n",
      "84/84 [==============================] - 1s 12ms/step - loss: 0.6816 - binary_accuracy: 0.5757 - val_loss: 0.7062 - val_binary_accuracy: 0.5582\n",
      "Epoch 5/40\n",
      "84/84 [==============================] - 1s 12ms/step - loss: 0.6845 - binary_accuracy: 0.5757 - val_loss: 0.6885 - val_binary_accuracy: 0.5582\n",
      "Epoch 6/40\n",
      "84/84 [==============================] - 1s 13ms/step - loss: 0.6831 - binary_accuracy: 0.5757 - val_loss: 0.6875 - val_binary_accuracy: 0.5582\n",
      "Epoch 7/40\n",
      "84/84 [==============================] - 1s 12ms/step - loss: 0.6826 - binary_accuracy: 0.5755 - val_loss: 0.6877 - val_binary_accuracy: 0.5582\n",
      "Epoch 8/40\n",
      "84/84 [==============================] - 1s 12ms/step - loss: 0.6820 - binary_accuracy: 0.5759 - val_loss: 0.6864 - val_binary_accuracy: 0.5582\n",
      "Epoch 9/40\n",
      "84/84 [==============================] - 1s 12ms/step - loss: 0.6847 - binary_accuracy: 0.5755 - val_loss: 0.6890 - val_binary_accuracy: 0.5582\n",
      "Epoch 10/40\n",
      "84/84 [==============================] - 1s 11ms/step - loss: 0.6823 - binary_accuracy: 0.5755 - val_loss: 0.6893 - val_binary_accuracy: 0.5582\n",
      "Epoch 11/40\n",
      "84/84 [==============================] - 1s 12ms/step - loss: 0.6852 - binary_accuracy: 0.5755 - val_loss: 0.6872 - val_binary_accuracy: 0.5582\n",
      "Epoch 12/40\n",
      "84/84 [==============================] - 1s 12ms/step - loss: 0.6828 - binary_accuracy: 0.5755 - val_loss: 0.6864 - val_binary_accuracy: 0.5582\n",
      "Epoch 13/40\n",
      "84/84 [==============================] - 1s 13ms/step - loss: 0.6824 - binary_accuracy: 0.5755 - val_loss: 0.6896 - val_binary_accuracy: 0.5582\n",
      "Epoch 14/40\n",
      "84/84 [==============================] - 1s 12ms/step - loss: 0.6829 - binary_accuracy: 0.5755 - val_loss: 0.6868 - val_binary_accuracy: 0.5582\n",
      "Epoch 15/40\n",
      "84/84 [==============================] - 1s 12ms/step - loss: 0.6826 - binary_accuracy: 0.5755 - val_loss: 0.6864 - val_binary_accuracy: 0.5582\n",
      "Epoch 16/40\n",
      "84/84 [==============================] - 1s 11ms/step - loss: 0.6825 - binary_accuracy: 0.5755 - val_loss: 0.6865 - val_binary_accuracy: 0.5582\n",
      "Epoch 17/40\n",
      "84/84 [==============================] - 1s 11ms/step - loss: 0.6825 - binary_accuracy: 0.5755 - val_loss: 0.6939 - val_binary_accuracy: 0.5582\n",
      "Epoch 18/40\n",
      "84/84 [==============================] - 1s 13ms/step - loss: 0.6841 - binary_accuracy: 0.5757 - val_loss: 0.6864 - val_binary_accuracy: 0.5582\n",
      "Epoch 19/40\n",
      "84/84 [==============================] - 1s 12ms/step - loss: 0.6825 - binary_accuracy: 0.5755 - val_loss: 0.6886 - val_binary_accuracy: 0.5582\n",
      "Epoch 20/40\n",
      "84/84 [==============================] - 1s 13ms/step - loss: 0.6863 - binary_accuracy: 0.5753 - val_loss: 0.6864 - val_binary_accuracy: 0.5582\n",
      "Epoch 21/40\n",
      "84/84 [==============================] - 1s 13ms/step - loss: 0.6831 - binary_accuracy: 0.5755 - val_loss: 0.6871 - val_binary_accuracy: 0.5582\n",
      "Epoch 22/40\n",
      "84/84 [==============================] - 1s 12ms/step - loss: 0.6830 - binary_accuracy: 0.5755 - val_loss: 0.6866 - val_binary_accuracy: 0.5582\n",
      "Epoch 23/40\n",
      "84/84 [==============================] - 1s 12ms/step - loss: 0.6831 - binary_accuracy: 0.5755 - val_loss: 0.6864 - val_binary_accuracy: 0.5582\n",
      "Epoch 24/40\n",
      "84/84 [==============================] - 1s 13ms/step - loss: 0.6832 - binary_accuracy: 0.5755 - val_loss: 0.6911 - val_binary_accuracy: 0.5582\n",
      "Epoch 25/40\n",
      "84/84 [==============================] - 1s 12ms/step - loss: 0.6826 - binary_accuracy: 0.5755 - val_loss: 0.6865 - val_binary_accuracy: 0.5582\n",
      "Epoch 26/40\n",
      "84/84 [==============================] - 1s 12ms/step - loss: 0.6847 - binary_accuracy: 0.5755 - val_loss: 0.6880 - val_binary_accuracy: 0.5582\n",
      "Epoch 27/40\n",
      "84/84 [==============================] - 1s 13ms/step - loss: 0.6823 - binary_accuracy: 0.5755 - val_loss: 0.6875 - val_binary_accuracy: 0.5582\n",
      "Epoch 28/40\n",
      "84/84 [==============================] - 1s 11ms/step - loss: 0.6824 - binary_accuracy: 0.5755 - val_loss: 0.6864 - val_binary_accuracy: 0.5582\n",
      "Epoch 29/40\n",
      "84/84 [==============================] - 1s 12ms/step - loss: 0.6842 - binary_accuracy: 0.5643 - val_loss: 0.6930 - val_binary_accuracy: 0.5582\n",
      "Epoch 30/40\n",
      "84/84 [==============================] - 1s 12ms/step - loss: 0.6820 - binary_accuracy: 0.5755 - val_loss: 0.6874 - val_binary_accuracy: 0.5582\n",
      "Epoch 31/40\n",
      "84/84 [==============================] - 1s 12ms/step - loss: 0.6827 - binary_accuracy: 0.5755 - val_loss: 0.6869 - val_binary_accuracy: 0.5582\n",
      "Epoch 32/40\n",
      "84/84 [==============================] - 1s 12ms/step - loss: 0.6829 - binary_accuracy: 0.5755 - val_loss: 0.6871 - val_binary_accuracy: 0.5582\n",
      "Epoch 33/40\n",
      "84/84 [==============================] - 1s 13ms/step - loss: 0.6832 - binary_accuracy: 0.5755 - val_loss: 0.6918 - val_binary_accuracy: 0.5582\n",
      "Epoch 34/40\n",
      "84/84 [==============================] - 1s 12ms/step - loss: 0.6833 - binary_accuracy: 0.5755 - val_loss: 0.6870 - val_binary_accuracy: 0.5582\n",
      "Epoch 35/40\n",
      "84/84 [==============================] - 1s 12ms/step - loss: 0.6821 - binary_accuracy: 0.5755 - val_loss: 0.6895 - val_binary_accuracy: 0.5582\n",
      "Epoch 36/40\n",
      "84/84 [==============================] - 1s 12ms/step - loss: 0.6824 - binary_accuracy: 0.5755 - val_loss: 0.6867 - val_binary_accuracy: 0.5582\n",
      "Epoch 37/40\n",
      "84/84 [==============================] - 1s 12ms/step - loss: 0.6828 - binary_accuracy: 0.5707 - val_loss: 0.6887 - val_binary_accuracy: 0.5582\n",
      "Epoch 38/40\n",
      "84/84 [==============================] - 1s 11ms/step - loss: 0.6838 - binary_accuracy: 0.5755 - val_loss: 0.6864 - val_binary_accuracy: 0.5582\n",
      "Epoch 39/40\n",
      "84/84 [==============================] - 1s 11ms/step - loss: 0.6821 - binary_accuracy: 0.5755 - val_loss: 0.6919 - val_binary_accuracy: 0.5582\n",
      "Epoch 40/40\n",
      "84/84 [==============================] - 1s 12ms/step - loss: 0.6825 - binary_accuracy: 0.5755 - val_loss: 0.6877 - val_binary_accuracy: 0.5582\n"
     ]
    }
   ],
   "source": [
    "history = model.fit(train_data, epochs=40, validation_data=test_data)"
   ]
  },
  {
   "cell_type": "markdown",
   "metadata": {},
   "source": [
    "Evaluation"
   ]
  },
  {
   "cell_type": "code",
   "execution_count": 54,
   "metadata": {},
   "outputs": [
    {
     "data": {
      "text/html": [
       "<iframe\n",
       "    scrolling=\"no\"\n",
       "    width=\"100%\"\n",
       "    height=\"545px\"\n",
       "    src=\"iframe_figures/figure_54.html\"\n",
       "    frameborder=\"0\"\n",
       "    allowfullscreen\n",
       "></iframe>\n"
      ]
     },
     "metadata": {},
     "output_type": "display_data"
    }
   ],
   "source": [
    "# Visualization of loss training \n",
    "from plotly import graph_objects as go\n",
    "color_chart = [\"#4B9AC7\", \"#4BE8E0\", \"#9DD4F3\", \"#97FBF6\", \"#2A7FAF\", \"#23B1AB\", \"#0E3449\", \"#015955\"]\n",
    "fig = go.Figure(data=[\n",
    "                      go.Scatter(\n",
    "                          y=history.history[\"loss\"],\n",
    "                          name=\"Training loss\",\n",
    "                          mode=\"lines\",\n",
    "                          marker=dict(\n",
    "                              color=color_chart[0]\n",
    "                          )),\n",
    "                      go.Scatter(\n",
    "                          y=history.history[\"val_loss\"],\n",
    "                          name=\"Validation loss\",\n",
    "                          mode=\"lines\",\n",
    "                          marker=dict(\n",
    "                              color=color_chart[1]\n",
    "                          ))\n",
    "])\n",
    "fig.update_layout(\n",
    "    title='Training and val loss across epochs',\n",
    "    xaxis_title='epochs',\n",
    "    yaxis_title='Cross Entropy'    \n",
    ")\n",
    "fig.show('iframe')"
   ]
  },
  {
   "cell_type": "code",
   "execution_count": 55,
   "metadata": {},
   "outputs": [
    {
     "data": {
      "text/html": [
       "<iframe\n",
       "    scrolling=\"no\"\n",
       "    width=\"100%\"\n",
       "    height=\"545px\"\n",
       "    src=\"iframe_figures/figure_55.html\"\n",
       "    frameborder=\"0\"\n",
       "    allowfullscreen\n",
       "></iframe>\n"
      ]
     },
     "metadata": {},
     "output_type": "display_data"
    }
   ],
   "source": [
    "# Visualization of accuracy training \n",
    "from plotly import graph_objects as go\n",
    "fig = go.Figure(data=[\n",
    "                      go.Scatter(\n",
    "                          y=history.history[\"binary_accuracy\"],\n",
    "                          name=\"Training accuracy\",\n",
    "                          mode=\"lines\",\n",
    "                          marker=dict(\n",
    "                              color=color_chart[4]\n",
    "                          )),\n",
    "                      go.Scatter(\n",
    "                          y=history.history[\"val_binary_accuracy\"],\n",
    "                          name=\"Validation accruracy\",\n",
    "                          mode=\"lines\",\n",
    "                          marker=dict(\n",
    "                              color=color_chart[5]\n",
    "                          ))\n",
    "])\n",
    "fig.update_layout(\n",
    "    title='Training and val accuracy across epochs',\n",
    "    xaxis_title='epochs',\n",
    "    yaxis_title='Accuracy'    \n",
    ")\n",
    "fig.show('iframe')"
   ]
  },
  {
   "cell_type": "code",
   "execution_count": 56,
   "metadata": {},
   "outputs": [],
   "source": [
    "#Using a LSTM model\n",
    "model1 = tf.keras.Sequential([\n",
    "    tf.keras.layers.Embedding(vocab_size+1, 64),\n",
    "    tf.keras.layers.Bidirectional(tf.keras.layers.LSTM(64, return_sequences=True)),\n",
    "    tf.keras.layers.Bidirectional(tf.keras.layers.LSTM(32)),\n",
    "    tf.keras.layers.Dense(64, activation='relu'),\n",
    "    tf.keras.layers.Dense(1, activation='sigmoid')\n",
    "])"
   ]
  },
  {
   "cell_type": "code",
   "execution_count": 57,
   "metadata": {},
   "outputs": [],
   "source": [
    "optimizer= tf.keras.optimizers.Adam(0.01)"
   ]
  },
  {
   "cell_type": "code",
   "execution_count": 58,
   "metadata": {},
   "outputs": [],
   "source": [
    "model1.compile(optimizer=optimizer,\n",
    "              loss=BinaryCrossentropy(),\n",
    "              metrics=[BinaryAccuracy()])"
   ]
  },
  {
   "cell_type": "code",
   "execution_count": 59,
   "metadata": {},
   "outputs": [
    {
     "name": "stdout",
     "output_type": "stream",
     "text": [
      "Epoch 1/40\n",
      "84/84 [==============================] - 12s 77ms/step - loss: 0.5303 - binary_accuracy: 0.7452 - val_loss: 0.5246 - val_binary_accuracy: 0.7412\n",
      "Epoch 2/40\n",
      "84/84 [==============================] - 5s 61ms/step - loss: 0.2108 - binary_accuracy: 0.9259 - val_loss: 0.6283 - val_binary_accuracy: 0.7342\n",
      "Epoch 3/40\n",
      "84/84 [==============================] - 5s 61ms/step - loss: 0.0898 - binary_accuracy: 0.9707 - val_loss: 0.8085 - val_binary_accuracy: 0.7215\n",
      "Epoch 4/40\n",
      "84/84 [==============================] - 5s 61ms/step - loss: 0.0400 - binary_accuracy: 0.9850 - val_loss: 0.9889 - val_binary_accuracy: 0.7102\n",
      "Epoch 5/40\n",
      "84/84 [==============================] - 5s 63ms/step - loss: 0.0283 - binary_accuracy: 0.9897 - val_loss: 1.0548 - val_binary_accuracy: 0.6922\n",
      "Epoch 6/40\n",
      "84/84 [==============================] - 5s 61ms/step - loss: 0.0184 - binary_accuracy: 0.9925 - val_loss: 1.5767 - val_binary_accuracy: 0.7018\n",
      "Epoch 7/40\n",
      "84/84 [==============================] - 5s 61ms/step - loss: 0.0172 - binary_accuracy: 0.9925 - val_loss: 1.3583 - val_binary_accuracy: 0.7167\n",
      "Epoch 8/40\n",
      "84/84 [==============================] - 5s 61ms/step - loss: 0.0123 - binary_accuracy: 0.9955 - val_loss: 1.9543 - val_binary_accuracy: 0.7001\n",
      "Epoch 9/40\n",
      "84/84 [==============================] - 5s 61ms/step - loss: 0.0113 - binary_accuracy: 0.9944 - val_loss: 2.0418 - val_binary_accuracy: 0.7032\n",
      "Epoch 10/40\n",
      "84/84 [==============================] - 5s 61ms/step - loss: 0.0109 - binary_accuracy: 0.9947 - val_loss: 1.8608 - val_binary_accuracy: 0.6957\n",
      "Epoch 11/40\n",
      "84/84 [==============================] - 5s 62ms/step - loss: 0.0141 - binary_accuracy: 0.9938 - val_loss: 1.6866 - val_binary_accuracy: 0.6821\n",
      "Epoch 12/40\n",
      "84/84 [==============================] - 5s 61ms/step - loss: 0.0135 - binary_accuracy: 0.9944 - val_loss: 1.8992 - val_binary_accuracy: 0.6940\n",
      "Epoch 13/40\n",
      "84/84 [==============================] - 5s 61ms/step - loss: 0.0094 - binary_accuracy: 0.9953 - val_loss: 2.5044 - val_binary_accuracy: 0.6799\n",
      "Epoch 14/40\n",
      "84/84 [==============================] - 5s 62ms/step - loss: 0.0077 - binary_accuracy: 0.9959 - val_loss: 2.7689 - val_binary_accuracy: 0.6830\n",
      "Epoch 15/40\n",
      "84/84 [==============================] - 5s 62ms/step - loss: 0.0077 - binary_accuracy: 0.9959 - val_loss: 2.7158 - val_binary_accuracy: 0.6821\n",
      "Epoch 16/40\n",
      "84/84 [==============================] - 5s 61ms/step - loss: 0.0073 - binary_accuracy: 0.9959 - val_loss: 2.8371 - val_binary_accuracy: 0.6817\n",
      "Epoch 17/40\n",
      "84/84 [==============================] - 5s 61ms/step - loss: 0.0075 - binary_accuracy: 0.9957 - val_loss: 2.9195 - val_binary_accuracy: 0.6821\n",
      "Epoch 18/40\n",
      "84/84 [==============================] - 5s 61ms/step - loss: 0.0073 - binary_accuracy: 0.9961 - val_loss: 3.0088 - val_binary_accuracy: 0.6821\n",
      "Epoch 19/40\n",
      "84/84 [==============================] - 5s 62ms/step - loss: 0.0073 - binary_accuracy: 0.9961 - val_loss: 3.0080 - val_binary_accuracy: 0.6830\n",
      "Epoch 20/40\n",
      "84/84 [==============================] - 5s 61ms/step - loss: 0.0073 - binary_accuracy: 0.9961 - val_loss: 3.0911 - val_binary_accuracy: 0.6808\n",
      "Epoch 21/40\n",
      "84/84 [==============================] - 5s 62ms/step - loss: 0.0073 - binary_accuracy: 0.9961 - val_loss: 3.1406 - val_binary_accuracy: 0.6843\n",
      "Epoch 22/40\n",
      "84/84 [==============================] - 5s 62ms/step - loss: 0.0071 - binary_accuracy: 0.9962 - val_loss: 3.2301 - val_binary_accuracy: 0.6848\n",
      "Epoch 23/40\n",
      "84/84 [==============================] - 5s 62ms/step - loss: 0.0072 - binary_accuracy: 0.9959 - val_loss: 3.2938 - val_binary_accuracy: 0.6821\n",
      "Epoch 24/40\n",
      "84/84 [==============================] - 5s 62ms/step - loss: 0.0078 - binary_accuracy: 0.9959 - val_loss: 2.6839 - val_binary_accuracy: 0.6821\n",
      "Epoch 25/40\n",
      "84/84 [==============================] - 5s 63ms/step - loss: 0.0077 - binary_accuracy: 0.9957 - val_loss: 2.9672 - val_binary_accuracy: 0.6900\n",
      "Epoch 26/40\n",
      "84/84 [==============================] - 5s 63ms/step - loss: 0.0077 - binary_accuracy: 0.9953 - val_loss: 3.1443 - val_binary_accuracy: 0.6865\n",
      "Epoch 27/40\n",
      "84/84 [==============================] - 5s 62ms/step - loss: 0.0074 - binary_accuracy: 0.9957 - val_loss: 3.2745 - val_binary_accuracy: 0.6870\n",
      "Epoch 28/40\n",
      "84/84 [==============================] - 5s 63ms/step - loss: 0.0074 - binary_accuracy: 0.9959 - val_loss: 3.2065 - val_binary_accuracy: 0.6878\n",
      "Epoch 29/40\n",
      "84/84 [==============================] - 5s 61ms/step - loss: 0.0098 - binary_accuracy: 0.9962 - val_loss: 2.9396 - val_binary_accuracy: 0.6791\n",
      "Epoch 30/40\n",
      "84/84 [==============================] - 5s 61ms/step - loss: 0.0173 - binary_accuracy: 0.9931 - val_loss: 1.6612 - val_binary_accuracy: 0.6944\n",
      "Epoch 31/40\n",
      "84/84 [==============================] - 5s 61ms/step - loss: 0.0239 - binary_accuracy: 0.9906 - val_loss: 1.7113 - val_binary_accuracy: 0.6848\n",
      "Epoch 32/40\n",
      "84/84 [==============================] - 5s 62ms/step - loss: 0.0206 - binary_accuracy: 0.9927 - val_loss: 1.2996 - val_binary_accuracy: 0.6799\n",
      "Epoch 33/40\n",
      "84/84 [==============================] - 5s 62ms/step - loss: 0.0193 - binary_accuracy: 0.9932 - val_loss: 1.4164 - val_binary_accuracy: 0.6795\n",
      "Epoch 34/40\n",
      "84/84 [==============================] - 5s 62ms/step - loss: 0.0145 - binary_accuracy: 0.9934 - val_loss: 2.0835 - val_binary_accuracy: 0.6883\n",
      "Epoch 35/40\n",
      "84/84 [==============================] - 5s 62ms/step - loss: 0.0119 - binary_accuracy: 0.9940 - val_loss: 1.5963 - val_binary_accuracy: 0.6918\n",
      "Epoch 36/40\n",
      "84/84 [==============================] - 5s 63ms/step - loss: 0.0098 - binary_accuracy: 0.9944 - val_loss: 2.6955 - val_binary_accuracy: 0.6992\n",
      "Epoch 37/40\n",
      "84/84 [==============================] - 5s 63ms/step - loss: 0.0097 - binary_accuracy: 0.9955 - val_loss: 2.0632 - val_binary_accuracy: 0.7071\n",
      "Epoch 38/40\n",
      "84/84 [==============================] - 5s 61ms/step - loss: 0.0091 - binary_accuracy: 0.9953 - val_loss: 2.5237 - val_binary_accuracy: 0.7084\n",
      "Epoch 39/40\n",
      "84/84 [==============================] - 5s 62ms/step - loss: 0.0128 - binary_accuracy: 0.9938 - val_loss: 1.9355 - val_binary_accuracy: 0.6957\n",
      "Epoch 40/40\n",
      "84/84 [==============================] - 5s 64ms/step - loss: 0.0108 - binary_accuracy: 0.9953 - val_loss: 2.2515 - val_binary_accuracy: 0.6896\n"
     ]
    }
   ],
   "source": [
    "history = model1.fit(train_data, epochs=40, validation_data=test_data)"
   ]
  },
  {
   "cell_type": "markdown",
   "metadata": {},
   "source": [
    "Evaluation"
   ]
  },
  {
   "cell_type": "code",
   "execution_count": 60,
   "metadata": {},
   "outputs": [
    {
     "data": {
      "text/html": [
       "<iframe\n",
       "    scrolling=\"no\"\n",
       "    width=\"100%\"\n",
       "    height=\"545px\"\n",
       "    src=\"iframe_figures/figure_60.html\"\n",
       "    frameborder=\"0\"\n",
       "    allowfullscreen\n",
       "></iframe>\n"
      ]
     },
     "metadata": {},
     "output_type": "display_data"
    }
   ],
   "source": [
    "# Visualization of loss training \n",
    "from plotly import graph_objects as go\n",
    "color_chart = [\"#4B9AC7\", \"#4BE8E0\", \"#9DD4F3\", \"#97FBF6\", \"#2A7FAF\", \"#23B1AB\", \"#0E3449\", \"#015955\"]\n",
    "fig = go.Figure(data=[\n",
    "                      go.Scatter(\n",
    "                          y=history.history[\"loss\"],\n",
    "                          name=\"Training loss\",\n",
    "                          mode=\"lines\",\n",
    "                          marker=dict(\n",
    "                              color=color_chart[0]\n",
    "                          )),\n",
    "                      go.Scatter(\n",
    "                          y=history.history[\"val_loss\"],\n",
    "                          name=\"Validation loss\",\n",
    "                          mode=\"lines\",\n",
    "                          marker=dict(\n",
    "                              color=color_chart[1]\n",
    "                          ))\n",
    "])\n",
    "fig.update_layout(\n",
    "    title='Training and val loss across epochs',\n",
    "    xaxis_title='epochs',\n",
    "    yaxis_title='Cross Entropy'    \n",
    ")\n",
    "fig.show('iframe')"
   ]
  },
  {
   "cell_type": "code",
   "execution_count": 61,
   "metadata": {},
   "outputs": [
    {
     "data": {
      "text/html": [
       "<iframe\n",
       "    scrolling=\"no\"\n",
       "    width=\"100%\"\n",
       "    height=\"545px\"\n",
       "    src=\"iframe_figures/figure_61.html\"\n",
       "    frameborder=\"0\"\n",
       "    allowfullscreen\n",
       "></iframe>\n"
      ]
     },
     "metadata": {},
     "output_type": "display_data"
    }
   ],
   "source": [
    "# Visualization of accuracy training \n",
    "from plotly import graph_objects as go\n",
    "fig = go.Figure(data=[\n",
    "                      go.Scatter(\n",
    "                          y=history.history[\"binary_accuracy\"],\n",
    "                          name=\"Training accuracy\",\n",
    "                          mode=\"lines\",\n",
    "                          marker=dict(\n",
    "                              color=color_chart[4]\n",
    "                          )),\n",
    "                      go.Scatter(\n",
    "                          y=history.history[\"val_binary_accuracy\"],\n",
    "                          name=\"Validation accruracy\",\n",
    "                          mode=\"lines\",\n",
    "                          marker=dict(\n",
    "                              color=color_chart[5]\n",
    "                          ))\n",
    "])\n",
    "fig.update_layout(\n",
    "    title='Training and val accuracy across epochs',\n",
    "    xaxis_title='epochs',\n",
    "    yaxis_title='Accuracy'    \n",
    ")\n",
    "fig.show('iframe')"
   ]
  },
  {
   "cell_type": "code",
   "execution_count": 62,
   "metadata": {},
   "outputs": [],
   "source": [
    "initial_rate = 0.1"
   ]
  },
  {
   "cell_type": "code",
   "execution_count": 63,
   "metadata": {},
   "outputs": [],
   "source": [
    "lr_schedule = tf.keras.optimizers.schedules.ExponentialDecay(\n",
    "    initial_rate,\n",
    "    decay_steps=1000,\n",
    "    decay_rate=0.96,\n",
    "    staircase=True)"
   ]
  },
  {
   "cell_type": "code",
   "execution_count": 64,
   "metadata": {},
   "outputs": [],
   "source": [
    "optimizer= tf.keras.optimizers.Adam(\n",
    "    learning_rate = lr_schedule\n",
    ")"
   ]
  },
  {
   "cell_type": "code",
   "execution_count": 65,
   "metadata": {},
   "outputs": [],
   "source": [
    "model1.compile(optimizer=optimizer,\n",
    "              loss=BinaryCrossentropy(),\n",
    "              metrics=[BinaryAccuracy()])"
   ]
  },
  {
   "cell_type": "code",
   "execution_count": 66,
   "metadata": {},
   "outputs": [
    {
     "name": "stdout",
     "output_type": "stream",
     "text": [
      "Epoch 1/40\n",
      "84/84 [==============================] - 13s 79ms/step - loss: 0.1377 - binary_accuracy: 0.9567 - val_loss: 0.9663 - val_binary_accuracy: 0.6440\n",
      "Epoch 2/40\n",
      "84/84 [==============================] - 5s 63ms/step - loss: 0.4701 - binary_accuracy: 0.7885 - val_loss: 0.8196 - val_binary_accuracy: 0.6235\n",
      "Epoch 3/40\n",
      "84/84 [==============================] - 5s 65ms/step - loss: 0.5527 - binary_accuracy: 0.7257 - val_loss: 0.6915 - val_binary_accuracy: 0.6195\n",
      "Epoch 4/40\n",
      "84/84 [==============================] - 5s 64ms/step - loss: 0.5694 - binary_accuracy: 0.7180 - val_loss: 0.6867 - val_binary_accuracy: 0.6274\n",
      "Epoch 5/40\n",
      "84/84 [==============================] - 5s 65ms/step - loss: 0.5372 - binary_accuracy: 0.7356 - val_loss: 0.6559 - val_binary_accuracy: 0.6585\n",
      "Epoch 6/40\n",
      "84/84 [==============================] - 5s 64ms/step - loss: 0.5253 - binary_accuracy: 0.7519 - val_loss: 0.6706 - val_binary_accuracy: 0.6357\n",
      "Epoch 7/40\n",
      "84/84 [==============================] - 5s 63ms/step - loss: 0.5210 - binary_accuracy: 0.7589 - val_loss: 0.6564 - val_binary_accuracy: 0.6668\n",
      "Epoch 8/40\n",
      "84/84 [==============================] - 5s 64ms/step - loss: 0.5362 - binary_accuracy: 0.7484 - val_loss: 0.7230 - val_binary_accuracy: 0.6366\n",
      "Epoch 9/40\n",
      "84/84 [==============================] - 5s 65ms/step - loss: 0.6349 - binary_accuracy: 0.6973 - val_loss: 0.6951 - val_binary_accuracy: 0.6046\n",
      "Epoch 10/40\n",
      "84/84 [==============================] - 5s 63ms/step - loss: 0.6279 - binary_accuracy: 0.6684 - val_loss: 0.6883 - val_binary_accuracy: 0.5749\n",
      "Epoch 11/40\n",
      "84/84 [==============================] - 5s 64ms/step - loss: 0.5994 - binary_accuracy: 0.6928 - val_loss: 0.7181 - val_binary_accuracy: 0.5902\n",
      "Epoch 12/40\n",
      "84/84 [==============================] - 5s 64ms/step - loss: 0.6068 - binary_accuracy: 0.6977 - val_loss: 0.6953 - val_binary_accuracy: 0.5902\n",
      "Epoch 13/40\n",
      "84/84 [==============================] - 5s 64ms/step - loss: 0.5952 - binary_accuracy: 0.6913 - val_loss: 0.6605 - val_binary_accuracy: 0.6121\n",
      "Epoch 14/40\n",
      "84/84 [==============================] - 5s 64ms/step - loss: 0.5972 - binary_accuracy: 0.6964 - val_loss: 0.7482 - val_binary_accuracy: 0.5705\n",
      "Epoch 15/40\n",
      "84/84 [==============================] - 6s 66ms/step - loss: 0.6167 - binary_accuracy: 0.6714 - val_loss: 0.6560 - val_binary_accuracy: 0.6195\n",
      "Epoch 16/40\n",
      "84/84 [==============================] - 5s 64ms/step - loss: 0.6130 - binary_accuracy: 0.6840 - val_loss: 0.6774 - val_binary_accuracy: 0.6243\n",
      "Epoch 17/40\n",
      "84/84 [==============================] - 5s 64ms/step - loss: 0.6083 - binary_accuracy: 0.6876 - val_loss: 0.6960 - val_binary_accuracy: 0.6068\n",
      "Epoch 18/40\n",
      "84/84 [==============================] - 5s 63ms/step - loss: 0.6270 - binary_accuracy: 0.6647 - val_loss: 0.6545 - val_binary_accuracy: 0.6379\n",
      "Epoch 19/40\n",
      "84/84 [==============================] - 5s 64ms/step - loss: 0.7036 - binary_accuracy: 0.6461 - val_loss: 0.6913 - val_binary_accuracy: 0.5749\n",
      "Epoch 20/40\n",
      "84/84 [==============================] - 5s 64ms/step - loss: 0.6482 - binary_accuracy: 0.6292 - val_loss: 0.7565 - val_binary_accuracy: 0.5560\n",
      "Epoch 21/40\n",
      "84/84 [==============================] - 5s 64ms/step - loss: 0.6506 - binary_accuracy: 0.6339 - val_loss: 0.6755 - val_binary_accuracy: 0.5954\n",
      "Epoch 22/40\n",
      "84/84 [==============================] - 5s 64ms/step - loss: 0.6484 - binary_accuracy: 0.6307 - val_loss: 0.6746 - val_binary_accuracy: 0.5941\n",
      "Epoch 23/40\n",
      "84/84 [==============================] - 5s 63ms/step - loss: 0.6337 - binary_accuracy: 0.6405 - val_loss: 0.6979 - val_binary_accuracy: 0.5950\n",
      "Epoch 24/40\n",
      "84/84 [==============================] - 5s 65ms/step - loss: 0.6528 - binary_accuracy: 0.6313 - val_loss: 0.6738 - val_binary_accuracy: 0.5933\n",
      "Epoch 25/40\n",
      "84/84 [==============================] - 5s 63ms/step - loss: 0.6416 - binary_accuracy: 0.6457 - val_loss: 0.6751 - val_binary_accuracy: 0.5893\n",
      "Epoch 26/40\n",
      "84/84 [==============================] - 5s 64ms/step - loss: 0.6367 - binary_accuracy: 0.6352 - val_loss: 0.7051 - val_binary_accuracy: 0.5687\n",
      "Epoch 27/40\n",
      "84/84 [==============================] - 5s 65ms/step - loss: 0.6385 - binary_accuracy: 0.6418 - val_loss: 0.6873 - val_binary_accuracy: 0.5810\n",
      "Epoch 28/40\n",
      "84/84 [==============================] - 5s 64ms/step - loss: 0.6358 - binary_accuracy: 0.6427 - val_loss: 0.6813 - val_binary_accuracy: 0.5902\n",
      "Epoch 29/40\n",
      "84/84 [==============================] - 5s 64ms/step - loss: 0.6493 - binary_accuracy: 0.6354 - val_loss: 0.7352 - val_binary_accuracy: 0.5771\n",
      "Epoch 30/40\n",
      "84/84 [==============================] - 5s 63ms/step - loss: 0.6477 - binary_accuracy: 0.6457 - val_loss: 0.6724 - val_binary_accuracy: 0.5933\n",
      "Epoch 31/40\n",
      "84/84 [==============================] - 5s 63ms/step - loss: 0.6517 - binary_accuracy: 0.6337 - val_loss: 0.6906 - val_binary_accuracy: 0.5876\n",
      "Epoch 32/40\n",
      "84/84 [==============================] - 5s 64ms/step - loss: 0.6579 - binary_accuracy: 0.6322 - val_loss: 0.6820 - val_binary_accuracy: 0.5832\n",
      "Epoch 33/40\n",
      "84/84 [==============================] - 5s 64ms/step - loss: 0.6579 - binary_accuracy: 0.6253 - val_loss: 0.7083 - val_binary_accuracy: 0.5495\n",
      "Epoch 34/40\n",
      "84/84 [==============================] - 5s 64ms/step - loss: 0.6730 - binary_accuracy: 0.5965 - val_loss: 0.6811 - val_binary_accuracy: 0.5722\n",
      "Epoch 35/40\n",
      "84/84 [==============================] - 5s 65ms/step - loss: 0.6685 - binary_accuracy: 0.5994 - val_loss: 0.6817 - val_binary_accuracy: 0.5762\n",
      "Epoch 36/40\n",
      "84/84 [==============================] - 5s 64ms/step - loss: 0.6699 - binary_accuracy: 0.6037 - val_loss: 0.6858 - val_binary_accuracy: 0.5709\n",
      "Epoch 37/40\n",
      "84/84 [==============================] - 5s 63ms/step - loss: 0.6630 - binary_accuracy: 0.6136 - val_loss: 0.6906 - val_binary_accuracy: 0.5565\n",
      "Epoch 38/40\n",
      "84/84 [==============================] - 5s 64ms/step - loss: 0.6606 - binary_accuracy: 0.6125 - val_loss: 0.6890 - val_binary_accuracy: 0.5819\n",
      "Epoch 39/40\n",
      "84/84 [==============================] - 5s 64ms/step - loss: 0.6659 - binary_accuracy: 0.6061 - val_loss: 0.6846 - val_binary_accuracy: 0.5779\n",
      "Epoch 40/40\n",
      "84/84 [==============================] - 5s 64ms/step - loss: 0.6658 - binary_accuracy: 0.6112 - val_loss: 0.6949 - val_binary_accuracy: 0.5591\n"
     ]
    }
   ],
   "source": [
    "history = model1.fit(train_data, epochs=40, validation_data=test_data)"
   ]
  },
  {
   "cell_type": "code",
   "execution_count": 67,
   "metadata": {},
   "outputs": [
    {
     "data": {
      "text/html": [
       "<iframe\n",
       "    scrolling=\"no\"\n",
       "    width=\"100%\"\n",
       "    height=\"545px\"\n",
       "    src=\"iframe_figures/figure_67.html\"\n",
       "    frameborder=\"0\"\n",
       "    allowfullscreen\n",
       "></iframe>\n"
      ]
     },
     "metadata": {},
     "output_type": "display_data"
    }
   ],
   "source": [
    "# Visualization of loss training \n",
    "from plotly import graph_objects as go\n",
    "color_chart = [\"#4B9AC7\", \"#4BE8E0\", \"#9DD4F3\", \"#97FBF6\", \"#2A7FAF\", \"#23B1AB\", \"#0E3449\", \"#015955\"]\n",
    "fig = go.Figure(data=[\n",
    "                      go.Scatter(\n",
    "                          y=history.history[\"loss\"],\n",
    "                          name=\"Training loss\",\n",
    "                          mode=\"lines\",\n",
    "                          marker=dict(\n",
    "                              color=color_chart[0]\n",
    "                          )),\n",
    "                      go.Scatter(\n",
    "                          y=history.history[\"val_loss\"],\n",
    "                          name=\"Validation loss\",\n",
    "                          mode=\"lines\",\n",
    "                          marker=dict(\n",
    "                              color=color_chart[1]\n",
    "                          ))\n",
    "])\n",
    "fig.update_layout(\n",
    "    title='Training and val loss across epochs',\n",
    "    xaxis_title='epochs',\n",
    "    yaxis_title='Cross Entropy'    \n",
    ")\n",
    "fig.show('iframe')"
   ]
  },
  {
   "cell_type": "code",
   "execution_count": 68,
   "metadata": {},
   "outputs": [
    {
     "data": {
      "text/html": [
       "<iframe\n",
       "    scrolling=\"no\"\n",
       "    width=\"100%\"\n",
       "    height=\"545px\"\n",
       "    src=\"iframe_figures/figure_68.html\"\n",
       "    frameborder=\"0\"\n",
       "    allowfullscreen\n",
       "></iframe>\n"
      ]
     },
     "metadata": {},
     "output_type": "display_data"
    }
   ],
   "source": [
    "# Visualization of accuracy training \n",
    "from plotly import graph_objects as go\n",
    "fig = go.Figure(data=[\n",
    "                      go.Scatter(\n",
    "                          y=history.history[\"binary_accuracy\"],\n",
    "                          name=\"Training accuracy\",\n",
    "                          mode=\"lines\",\n",
    "                          marker=dict(\n",
    "                              color=color_chart[4]\n",
    "                          )),\n",
    "                      go.Scatter(\n",
    "                          y=history.history[\"val_binary_accuracy\"],\n",
    "                          name=\"Validation accruracy\",\n",
    "                          mode=\"lines\",\n",
    "                          marker=dict(\n",
    "                              color=color_chart[5]\n",
    "                          ))\n",
    "])\n",
    "fig.update_layout(\n",
    "    title='Training and val accuracy across epochs',\n",
    "    xaxis_title='epochs',\n",
    "    yaxis_title='Accuracy'    \n",
    ")\n",
    "fig.show('iframe')"
   ]
  },
  {
   "cell_type": "markdown",
   "metadata": {},
   "source": [
    "Conclusion:\n",
    "loss and val_loss used in both models are too high: it is better to use an NLP model like BERT which could be more efficient\n",
    "- Improve preprocessing or do it differently\n",
    "- Transfer learning with a BERT model"
   ]
  }
 ],
 "metadata": {
  "kernelspec": {
   "display_name": "Python 3",
   "language": "python",
   "name": "python3"
  },
  "language_info": {
   "codemirror_mode": {
    "name": "ipython",
    "version": 3
   },
   "file_extension": ".py",
   "mimetype": "text/x-python",
   "name": "python",
   "nbconvert_exporter": "python",
   "pygments_lexer": "ipython3",
   "version": "3.8.6"
  }
 },
 "nbformat": 4,
 "nbformat_minor": 4
}
